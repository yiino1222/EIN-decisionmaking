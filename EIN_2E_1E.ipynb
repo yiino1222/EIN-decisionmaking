{
 "cells": [
  {
   "cell_type": "markdown",
   "metadata": {},
   "source": [
    "# EINmodel for desicion making"
   ]
  },
  {
   "cell_type": "code",
   "execution_count": null,
   "metadata": {
    "vscode": {
     "languageId": "plaintext"
    }
   },
   "outputs": [],
   "source": [
    "import numpy as np\n",
    "import matplotlib.pyplot as plt\n",
    "\n",
    "# ---- Activation function (sigmoid): conversion from synaptic input to firing rate ----\n",
    "def sigmoid(x, theta=1.0):\n",
    "    # theta: slope parameter (controls steepness/threshold)\n",
    "    return 1.0 / (1.0 + np.exp(-x/theta))\n",
    "\n",
    "# ---- Model parameter settings ----\n",
    "WEE = 1.6  # recurrent excitatory connection strength (E->E, applies to both E_R and E_L)\n",
    "WEI = 1.0  # inhibitory-to-excitatory connection (I->E_R, I->E_L)\n",
    "WIE = 1.0  # excitatory-to-inhibitory connection (E_R, E_L -> I)\n",
    "WII = 1.2  # inhibitory self-connection (I->I; here set to zero, not used)\n",
    "IE_R = 1.0 # external input to E_R (e.g., task stimulus)\n",
    "IE_L = 1.0 # external input to E_L\n",
    "II = 1.0   # external input to I\n",
    "tau = 10.0 # time constant (how quickly firing rate can change, usually 10–20)\n",
    "theta = 1.0  # sigmoid slope\n",
    "\n",
    "# ---- Steady-state value of inhibitory population (I), given E_R and E_L ----\n",
    "def I_steady(E_R, E_L):\n",
    "    # I = sigmoid(WIE*(E_R + E_L) - WII*I + II)\n",
    "    # Here, I->I is omitted, so I = sigmoid(WIE*(E_R + E_L) + II)\n",
    "    inp = WIE*(E_R + E_L) - WII*0 + II\n",
    "    return sigmoid(inp, theta)\n",
    "\n",
    "# ---- Create state space grid (E_R, E_L axes) ----\n",
    "E_range = np.linspace(0, 1.5, 25)  # Range of possible E_R, E_L firing rates\n",
    "E_R_grid, E_L_grid = np.meshgrid(E_range, E_range)  # 2D grid\n",
    "\n",
    "dER = np.zeros_like(E_R_grid)  # Stores dE_R/dt at each grid point\n",
    "dEL = np.zeros_like(E_L_grid)  # Stores dE_L/dt at each grid point\n",
    "\n",
    "# ---- For each grid point, compute the ODE right-hand side (dE/dt) ----\n",
    "for i in range(E_R_grid.shape[0]):\n",
    "    for j in range(E_R_grid.shape[1]):\n",
    "        E_R = E_R_grid[i, j]  # Current E_R\n",
    "        E_L = E_L_grid[i, j]  # Current E_L\n",
    "        I = I_steady(E_R, E_L)  # Compute steady-state value of I for these E_R/E_L\n",
    "        # Total input: recurrent excitation, inhibition, external input\n",
    "        inp_R = WEE*E_R - WEI*I + IE_R  # Total synaptic input to E_R\n",
    "        inp_L = WEE*E_L - WEI*I + IE_L  # Total synaptic input to E_L\n",
    "        # Main ODE: τ dE/dt = -E + f(total input)\n",
    "        dER[i, j] = (-E_R + sigmoid(inp_R, theta)) / tau  # Time derivative of E_R\n",
    "        dEL[i, j] = (-E_L + sigmoid(inp_L, theta)) / tau  # Time derivative of E_L\n",
    "\n",
    "# ---- Plot vector field (phase plot: direction and magnitude of dE/dt at each point) ----\n",
    "plt.figure(figsize=(7,7))\n",
    "plt.quiver(E_R_grid, E_L_grid, dER, dEL, angles='xy')\n",
    "plt.xlabel('E_R firing rate')  # x-axis: E_R firing rate\n",
    "plt.ylabel('E_L firing rate')  # y-axis: E_L firing rate\n",
    "plt.title('Phase plot (dE_R/dt, dE_L/dt) with I as steady-state')\n",
    "plt.grid()\n",
    "plt.show()"
   ]
  }
 ],
 "metadata": {
  "kernelspec": {
   "display_name": "base",
   "language": "python",
   "name": "python3"
  },
  "language_info": {
   "codemirror_mode": {
    "name": "ipython",
    "version": 3
   },
   "file_extension": ".py",
   "mimetype": "text/x-python",
   "name": "python",
   "nbconvert_exporter": "python",
   "pygments_lexer": "ipython3",
   "version": "3.12.9"
  }
 },
 "nbformat": 4,
 "nbformat_minor": 4
}
