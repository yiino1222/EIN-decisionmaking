{
 "cells": [
  {
   "cell_type": "markdown",
   "metadata": {},
   "source": [
    "# RAPIDS & Scanpy Single-Cell RNA-seq Workflow on mouse NAc cells"
   ]
  },
  {
   "cell_type": "markdown",
   "metadata": {},
   "source": [
    "Copyright (c) 2020, NVIDIA CORPORATION.\n",
    "\n",
    "Licensed under the Apache License, Version 2.0 (the \"License\") you may not use this file except in compliance with the License. You may obtain a copy of the License at\n",
    "\n",
    "    http://www.apache.org/licenses/LICENSE-2.0 \n",
    "\n",
    "Unless required by applicable law or agreed to in writing, software distributed under the License is distributed on an \"AS IS\" BASIS, WITHOUT WARRANTIES OR CONDITIONS OF ANY KIND, either express or implied. See the License for the specific language governing permissions and limitations under the License."
   ]
  },
  {
   "cell_type": "markdown",
   "metadata": {},
   "source": [
    "This notebook demonstrates a single-cell RNA analysis workflow that begins with preprocessing a count matrix of size `(n_gene, n_cell)` and results in a visualization of the clustered cells for further analysis."
   ]
  },
  {
   "cell_type": "markdown",
   "metadata": {},
   "source": [
    "For demonstration purposes, we use a dataset of 1.3 M brain cells with Unified Virtual Memory to oversubscribe GPU memory."
   ]
  },
  {
   "cell_type": "markdown",
   "metadata": {},
   "source": [
    "## Import requirements"
   ]
  },
  {
   "cell_type": "code",
   "execution_count": 1,
   "metadata": {},
   "outputs": [],
   "source": [
    "import numpy as np\n",
    "import scanpy as sc\n",
    "import anndata\n",
    "import scipy.io\n",
    "import scipy.sparse\n",
    "\n",
    "import time\n",
    "import os, wget\n",
    "\n",
    "\n",
    "import cudf\n",
    "\n",
    "from cuml.decomposition import PCA\n",
    "from cuml.manifold import TSNE\n",
    "from cuml.cluster import KMeans\n",
    "from cuml.preprocessing import StandardScaler\n",
    "\n",
    "import cuml\n",
    "import rapids_scanpy_funcs\n",
    "import utils\n",
    "\n",
    "import warnings\n",
    "warnings.filterwarnings('ignore', 'Expected ')\n",
    "warnings.simplefilter('ignore')\n",
    "import pandas as pd\n",
    "import matplotlib\n",
    "import matplotlib.pyplot as plt\n",
    "from matplotlib.colors import LogNorm\n",
    "matplotlib.rcParams['pdf.fonttype'] = 42\n",
    "matplotlib.rcParams['ps.fonttype'] = 42\n",
    "import rmm\n",
    "\n",
    "from rmm.allocators.cupy import rmm_cupy_allocator\n",
    "import cupy\n",
    "cupy.cuda.set_allocator(rmm_cupy_allocator)\n",
    "from scipy import sparse\n",
    "import gc\n",
    "import cupy as cp\n",
    "gc.collect()\n",
    "cp.get_default_memory_pool().free_all_blocks()\n",
    "import calculation_tool as ct"
   ]
  },
  {
   "cell_type": "markdown",
   "metadata": {},
   "source": [
    "We use the RAPIDS memory manager to enable Unified Virtual Memory management, which allows us to oversubscribe the GPU memory."
   ]
  },
  {
   "cell_type": "markdown",
   "metadata": {},
   "source": [
    "## Input data"
   ]
  },
  {
   "cell_type": "markdown",
   "metadata": {},
   "source": [
    "In the cell below, we provide the path to the sparse `.h5ad` file containing the count matrix to analyze. Please see the README for instructions on how to download the dataset we use here.\n",
    "\n",
    "To run this notebook using your own dataset, please see the README for instructions to convert your own count matrix into this format. Then, replace the path in the cell below with the path to your generated `.h5ad` file."
   ]
  },
  {
   "cell_type": "markdown",
   "metadata": {},
   "source": [
    "## load data"
   ]
  },
  {
   "cell_type": "code",
   "execution_count": null,
   "metadata": {},
   "outputs": [],
   "source": [
    "import os\n",
    "import scanpy as sc\n",
    "import pandas as pd\n",
    "from scipy import sparse\n",
    "import anndata\n",
    "\n",
    "def load_and_merge_data_v3(base_dir):\n",
    "    # 処理する条件（controlとschizophrenia）をリストとして定義\n",
    "    conditions = ['control', 'schizophrenia']\n",
    "    \n",
    "    count = 0\n",
    "    for condition in conditions:\n",
    "        condition_path = os.path.join(base_dir, condition)\n",
    "        \n",
    "        # 各条件下でのサンプル名（MB7、MB8など）を取得\n",
    "        samples = os.listdir(condition_path)\n",
    "        \n",
    "        for sample in samples:\n",
    "            sample_path = os.path.join(condition_path, sample, 'matrix.tsv')\n",
    "            \n",
    "            # pandasでTSVファイルを読み込み\n",
    "            if count == 0:\n",
    "                adata=sc.read_csv(sample_path,delimiter='\\t').T\n",
    "                sparse_X = sparse.csr_matrix(adata.X)\n",
    "                adata.X = sparse_X\n",
    "                adata.obs['condition'] = condition\n",
    "                adata.obs['sample'] = sample\n",
    "            else:\n",
    "                adata_append = sc.read_csv(sample_path,delimiter='\\t').T\n",
    "                sparse_X = sparse.csr_matrix(adata_append.X)\n",
    "                adata_append.X = sparse_X\n",
    "                adata_append.obs['condition'] = condition\n",
    "                adata_append.obs['sample'] = sample\n",
    "            \n",
    "                # 連結\n",
    "                adata = anndata.concat([adata, adata_append])\n",
    "                print(adata.X.shape)\n",
    "            \n",
    "            count += 1\n",
    "            \n",
    "    return adata\n",
    "\n",
    "base_dir = '/temp/data/human_Sz_PFC_each'\n",
    "#adata = load_and_merge_data_v3(base_dir)\n",
    "file_path=\"/temp/data/human_Sz_PFC_each/merged_adata.h5ad\"\n",
    "#adata.write(file_path)"
   ]
  },
  {
   "cell_type": "code",
   "execution_count": null,
   "metadata": {},
   "outputs": [],
   "source": [
    "base_dir = '/data/human_Sz_PFC_each'\n",
    "#adata = load_and_merge_data_v3(base_dir)\n",
    "file_path=\"/data/human_Sz_PFC_each/merged_SZ_adata.h5ad\"\n",
    "adata = anndata.read_h5ad(file_path)\n",
    "print(adata.X.shape)"
   ]
  },
  {
   "cell_type": "code",
   "execution_count": null,
   "metadata": {},
   "outputs": [],
   "source": [
    "file_path=\"/data/human_Sz_PFC_each/merged_control_adata.h5ad\"\n",
    "adata = anndata.read_h5ad(file_path)"
   ]
  },
  {
   "cell_type": "code",
   "execution_count": null,
   "metadata": {},
   "outputs": [],
   "source": [
    "inc_list=['MB7','MB9','MB11', 'MB13', 'MB15', 'MB16', 'MB17']"
   ]
  },
  {
   "cell_type": "code",
   "execution_count": null,
   "metadata": {},
   "outputs": [],
   "source": [
    "adata2=adata[adata.obs['sample'].isin(inc_list)]"
   ]
  },
  {
   "cell_type": "code",
   "execution_count": null,
   "metadata": {},
   "outputs": [],
   "source": [
    "adata2.write(\"/data/human_Sz_PFC_each/merged_control_selected_adata.h5ad\")"
   ]
  },
  {
   "cell_type": "code",
   "execution_count": null,
   "metadata": {},
   "outputs": [],
   "source": [
    "file_path=\"/data/human_Sz_PFC_each/merged_control_selected_adata.h5ad\"\n",
    "adata,GPCR_df=ct.preprocess_adata_in_bulk(file_path,label=None,is_gpu=False)\n",
    "GPCR_df.to_csv(\"/data/human_Sz_PFC_each/control_selected_combined_data_GPCR_df.csv\")"
   ]
  },
  {
   "cell_type": "code",
   "execution_count": null,
   "metadata": {},
   "outputs": [],
   "source": [
    "GPCR_df=pd.read_csv(\"/data/human_Sz_PFC_each/control_selected_combined_data_GPCR_df.csv\")\n",
    "adata=anndata.read_h5ad(\"/data/human_Sz_PFC_each/merged_control_selected_adata_processed.h5ad\")"
   ]
  },
  {
   "cell_type": "code",
   "execution_count": null,
   "metadata": {},
   "outputs": [],
   "source": [
    "D_R_mtx,GPCR_type_df,drug_list,GPCR_list=ct.load_parameters()\n",
    "params=ct.set_parameters_for_preprocess(GPCR_list)\n",
    "import calculation_tool as ct\n",
    "ct.drug_titeration(adata, GPCR_df, GPCR_type_df, drug_list, D_R_mtx)"
   ]
  },
  {
   "cell_type": "code",
   "execution_count": null,
   "metadata": {},
   "outputs": [],
   "source": [
    "drug_conc=10**4\n",
    "adata=ct.calc_drug_response(adata,GPCR_df,GPCR_type_df,drug_list,D_R_mtx,drug_conc)\n",
    "selectivity_threshold=3\n",
    "adata,num_clz_selective=ct.calc_clz_selective_cell(adata,drug_list,selectivity_threshold)\n",
    "\n",
    "file_root, file_extension = os.path.splitext(file_path)\n",
    "# Append '_processed' to the root and add the extension back\n",
    "processed_file_path = f\"{file_root}_processed{file_extension}\"\n",
    "adata.write(processed_file_path)"
   ]
  },
  {
   "cell_type": "code",
   "execution_count": null,
   "metadata": {},
   "outputs": [],
   "source": [
    "GPCR_adata=anndata.AnnData(X=GPCR_df)\n",
    "GPCR_adata_norm=sc.pp.normalize_total(GPCR_adata,target_sum=1e4,inplace=False)['X']\n",
    "GPCR_adata_norm_df=pd.DataFrame(GPCR_adata_norm,columns=GPCR_adata.var.index)"
   ]
  },
  {
   "cell_type": "code",
   "execution_count": null,
   "metadata": {},
   "outputs": [],
   "source": [
    "#import calculation_tool as ct\n",
    "\n",
    "drug_conc=10**4\n",
    "results_df_sorted,all_responses=ct.sim_inhibit_pattern(adata,GPCR_adata_norm_df,GPCR_type_df,drug_conc,n_pattern=10000)"
   ]
  },
  {
   "cell_type": "code",
   "execution_count": null,
   "metadata": {},
   "outputs": [],
   "source": [
    "dir=\"/data/human_Sz_PFC_each/\"\n",
    "results_df_sorted.to_csv(os.path.join(dir,\"results_df_sorted.csv\"))\n",
    "all_responses.to_csv(os.path.join(dir,\"all_responses.csv\"))"
   ]
  },
  {
   "cell_type": "code",
   "execution_count": null,
   "metadata": {},
   "outputs": [],
   "source": [
    "ct.visualize_patterns(results_df_sorted, top_n=20, top_n_for_heatmap=20, scatter_n=500)"
   ]
  },
  {
   "cell_type": "code",
   "execution_count": null,
   "metadata": {},
   "outputs": [],
   "source": [
    "import calculation_tool as ct\n",
    "\n",
    "drug_conc=10**3\n",
    "results_df_sorted,all_responses=ct.sim_inhibit_pattern_3r(adata,GPCR_adata_norm_df,GPCR_type_df,drug_conc)"
   ]
  },
  {
   "cell_type": "code",
   "execution_count": null,
   "metadata": {},
   "outputs": [],
   "source": [
    "dir=\"/data/human_Sz_PFC_each/\"\n",
    "results_df_sorted.to_csv(os.path.join(dir,\"results_df_sorted_3r.csv\"))\n",
    "all_responses.to_csv(os.path.join(dir,\"all_responses_3r.csv\"))"
   ]
  },
  {
   "cell_type": "code",
   "execution_count": null,
   "metadata": {},
   "outputs": [],
   "source": [
    "ct.visualize_patterns(results_df_sorted, top_n=20, top_n_for_heatmap=20, scatter_n=500)"
   ]
  }
 ],
 "metadata": {
  "kernelspec": {
   "display_name": "base",
   "language": "python",
   "name": "python3"
  },
  "language_info": {
   "codemirror_mode": {
    "name": "ipython",
    "version": 3
   },
   "file_extension": ".py",
   "mimetype": "text/x-python",
   "name": "python",
   "nbconvert_exporter": "python",
   "pygments_lexer": "ipython3",
   "version": "3.12.9"
  }
 },
 "nbformat": 4,
 "nbformat_minor": 4
}
