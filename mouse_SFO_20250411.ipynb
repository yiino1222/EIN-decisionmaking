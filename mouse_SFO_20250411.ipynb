{
 "cells": [
  {
   "cell_type": "markdown",
   "metadata": {},
   "source": [
    "# RAPIDS & Scanpy Single-Cell RNA-seq Workflow on MnPO cells"
   ]
  },
  {
   "cell_type": "markdown",
   "metadata": {},
   "source": [
    "Copyright (c) 2020, NVIDIA CORPORATION.\n",
    "\n",
    "Licensed under the Apache License, Version 2.0 (the \"License\") you may not use this file except in compliance with the License. You may obtain a copy of the License at\n",
    "\n",
    "    http://www.apache.org/licenses/LICENSE-2.0 \n",
    "\n",
    "Unless required by applicable law or agreed to in writing, software distributed under the License is distributed on an \"AS IS\" BASIS, WITHOUT WARRANTIES OR CONDITIONS OF ANY KIND, either express or implied. See the License for the specific language governing permissions and limitations under the License."
   ]
  },
  {
   "cell_type": "markdown",
   "metadata": {},
   "source": [
    "This notebook demonstrates a single-cell RNA analysis workflow that begins with preprocessing a count matrix of size `(n_gene, n_cell)` and results in a visualization of the clustered cells for further analysis."
   ]
  },
  {
   "cell_type": "markdown",
   "metadata": {},
   "source": [
    "For demonstration purposes, we use a dataset of 1.3 M brain cells with Unified Virtual Memory to oversubscribe GPU memory."
   ]
  },
  {
   "cell_type": "markdown",
   "metadata": {},
   "source": [
    "## Import requirements"
   ]
  },
  {
   "cell_type": "code",
   "execution_count": 1,
   "metadata": {},
   "outputs": [],
   "source": [
    "import numpy as np\n",
    "import scanpy as sc\n",
    "import anndata\n",
    "import scipy.io\n",
    "import scipy.sparse\n",
    "\n",
    "import time\n",
    "import os, wget\n",
    "\n",
    "\n",
    "import cudf\n",
    "\n",
    "from cuml.decomposition import PCA\n",
    "from cuml.manifold import TSNE\n",
    "from cuml.cluster import KMeans\n",
    "from cuml.preprocessing import StandardScaler\n",
    "\n",
    "import cuml\n",
    "import rapids_scanpy_funcs\n",
    "import utils\n",
    "\n",
    "import warnings\n",
    "warnings.filterwarnings('ignore', 'Expected ')\n",
    "warnings.simplefilter('ignore')\n",
    "import pandas as pd\n",
    "import matplotlib\n",
    "import matplotlib.pyplot as plt\n",
    "from matplotlib.colors import LogNorm\n",
    "matplotlib.rcParams['pdf.fonttype'] = 42\n",
    "matplotlib.rcParams['ps.fonttype'] = 42\n",
    "import rmm\n",
    "\n",
    "from rmm.allocators.cupy import rmm_cupy_allocator\n",
    "import cupy\n",
    "cupy.cuda.set_allocator(rmm_cupy_allocator)\n",
    "from scipy import sparse\n",
    "import gc\n",
    "import cupy as cp\n",
    "gc.collect()\n",
    "cp.get_default_memory_pool().free_all_blocks()\n",
    "import calculation_tool as ct"
   ]
  },
  {
   "cell_type": "markdown",
   "metadata": {},
   "source": [
    "We use the RAPIDS memory manager to enable Unified Virtual Memory management, which allows us to oversubscribe the GPU memory."
   ]
  },
  {
   "cell_type": "markdown",
   "metadata": {},
   "source": [
    "## Input data"
   ]
  },
  {
   "cell_type": "markdown",
   "metadata": {},
   "source": [
    "In the cell below, we provide the path to the sparse `.h5ad` file containing the count matrix to analyze. Please see the README for instructions on how to download the dataset we use here.\n",
    "\n",
    "To run this notebook using your own dataset, please see the README for instructions to convert your own count matrix into this format. Then, replace the path in the cell below with the path to your generated `.h5ad` file."
   ]
  },
  {
   "cell_type": "code",
   "execution_count": null,
   "metadata": {},
   "outputs": [],
   "source": [
    "\n",
    "url=r\"https://www.ncbi.nlm.nih.gov/geo/download/?acc=GSM4663167&format=file&file=GSM4663167%5F1%2DSFO%2Dsingle%2Dcell%2Ecsv%2Egz\"\n",
    "input_file=\"/temp/data/mouse_SFO/GSM4663167_1-SFO-single-cell.csv.gz\"\n",
    "input_csv=\"/temp/data/mouse_SFO/GSM4663167_1-SFO-single-cell.csv\"\n",
    "if not os.path.exists(input_csv):\n",
    "    print('Downloading import file...')\n",
    "    os.makedirs('/temp/data/mouse_SFO', exist_ok=True)\n",
    "    wget.download(url,input_file)\n",
    "\n",
    "results_file = \"/temp/data/mouse_SFO/sfo_ctrl.h5ad\""
   ]
  },
  {
   "cell_type": "code",
   "execution_count": null,
   "metadata": {},
   "outputs": [],
   "source": [
    "\n",
    "url=r\"https://www.ncbi.nlm.nih.gov/geo/download/?acc=GSM4663169&format=file&file=GSM4663169%5F6%2DSFO%2Dstimulus%2Dto%2Dcell%2Dtype%2Dmapping%2Dwater%5Fsated%2Ecsv%2Egz\"\n",
    "input_file=\"/temp/data/mouse_SFO/GSM4663169_6-SFO-stimulus-to-cell-type-mapping-water_sated.csv.gz\"\n",
    "input_csv=\"/temp/data/mouse_SFO/GSM4663169_6-SFO-stimulus-to-cell-type-mapping-water_sated.csv\"\n",
    "if not os.path.exists(input_csv):\n",
    "    print('Downloading import file...')\n",
    "    os.makedirs('/temp/data/mouse_SFO', exist_ok=True)\n",
    "    wget.download(url,input_file)"
   ]
  },
  {
   "cell_type": "code",
   "execution_count": null,
   "metadata": {},
   "outputs": [],
   "source": [
    "\n",
    "url=r\"https://www.ncbi.nlm.nih.gov/geo/download/?acc=GSM4663170&format=file&file=GSM4663170%5F7%2DSFO%2Dstimulus%2Dto%2Dcell%2Dtype%2Dmapping%2Dosmotic%5Fthirst%2Ecsv%2Egz\"\n",
    "input_file=\"/temp/data/mouse_SFO/GSM4663170_7-SFO-stimulus-to-cell-type-mapping-osmotic_thirst.csv.gz\"\n",
    "input_csv=\"/temp/data/mouse_SFO/GSM4663170_7-SFO-stimulus-to-cell-type-mapping-osmotic_thirst.csv\"\n",
    "if not os.path.exists(input_csv):\n",
    "    print('Downloading import file...')\n",
    "    os.makedirs('/temp/data/mouse_SFO', exist_ok=True)\n",
    "    wget.download(url,input_file)"
   ]
  },
  {
   "cell_type": "code",
   "execution_count": null,
   "metadata": {},
   "outputs": [],
   "source": [
    "\n",
    "url=r\"https://www.ncbi.nlm.nih.gov/geo/download/?acc=GSM4663171&format=file&file=GSM4663171%5F8%2DSFO%2Dstimulus%2Dto%2Dcell%2Dtype%2Dmapping%2Dhypovolemic%5Fthirst%2Ecsv%2Egz\"\n",
    "input_file=\"/temp/data/mouse_SFO/GSM4663171_8-SFO-stimulus-to-cell-type-mapping-hypovolemic_thirst.csv.gz\"\n",
    "input_csv=\"/temp/data/mouse_SFO/GSM4663171_8-SFO-stimulus-to-cell-type-mapping-hypovolemic_thirst.csv\"\n",
    "if not os.path.exists(input_csv):\n",
    "    print('Downloading import file...')\n",
    "    os.makedirs('/temp/data/mouse_SFO', exist_ok=True)\n",
    "    wget.download(url,input_file)"
   ]
  },
  {
   "cell_type": "code",
   "execution_count": null,
   "metadata": {},
   "outputs": [],
   "source": [
    "\n",
    "url=r\"https://www.ncbi.nlm.nih.gov/geo/download/?acc=GSM4663172&format=file&file=GSM4663172%5F9%2DSFO%2Dstimulus%2Dto%2Dcell%2Dtype%2Dmapping%2D36H%5Fwater%5Fdeprivation%2Ecsv%2Egz\"\n",
    "input_file=\"/temp/data/mouse_SFO/GSM4663172_9-SFO-stimulus-to-cell-type-mapping-36H_water_deprivation.csv.gz\"\n",
    "input_csv=\"/temp/data/mouse_SFO/GSM4663172_9-SFO-stimulus-to-cell-type-mapping-36H_water_deprivation.csv\"\n",
    "if not os.path.exists(input_csv):\n",
    "    print('Downloading import file...')\n",
    "    os.makedirs('/temp/data/mouse_SFO', exist_ok=True)\n",
    "    wget.download(url,input_file)"
   ]
  },
  {
   "cell_type": "code",
   "execution_count": null,
   "metadata": {},
   "outputs": [],
   "source": [
    "from sh import gunzip\n",
    "import glob\n",
    "dir=\"/data/mouse_SFO/\"\n",
    "gz_list=glob.glob(os.path.join(dir,\"GSM*.gz\"))\n",
    "for gz in gz_list:\n",
    "    gunzip(gz)\n"
   ]
  },
  {
   "cell_type": "code",
   "execution_count": null,
   "metadata": {},
   "outputs": [],
   "source": [
    "import glob\n",
    "dir=\"/data/mouse_SFO/\"\n",
    "csv_list=glob.glob(os.path.join(dir,\"GSM*.csv\"))\n"
   ]
  },
  {
   "cell_type": "code",
   "execution_count": null,
   "metadata": {},
   "outputs": [],
   "source": [
    "from scipy import sparse\n",
    "csv_list\n",
    "label_list=[\"plane\",\"hypovolemic_thirst\",\"water_sated\",\"osmotic_thirst\",\"water_deprivation\"]\n",
    "all_adatas = []\n",
    "for i,csv in enumerate(csv_list):\n",
    "    print(csv)\n",
    "    adata=sc.read_csv(csv)\n",
    "    adata=adata.transpose()\n",
    "    sparse_X = sparse.csr_matrix(adata.X)\n",
    "    adata.X = sparse_X\n",
    "    adata.obs['label'] = label_list[i]\n",
    "    all_adatas.append(adata)\n",
    "    \n",
    "combined_adata = all_adatas[0].concatenate(all_adatas[1:], join='outer')\n",
    "combined_adata.write(\"/data/mouse_SFO/combined_data.h5ad\")"
   ]
  },
  {
   "cell_type": "code",
   "execution_count": null,
   "metadata": {},
   "outputs": [],
   "source": [
    "combined_adata.var_names"
   ]
  },
  {
   "cell_type": "code",
   "execution_count": null,
   "metadata": {},
   "outputs": [],
   "source": [
    "genes=adata.var_names\n",
    "pd.DataFrame(genes).to_csv(\"/temp/data/mouse_SFO/WT_SFO_adata_genes.csv\")"
   ]
  },
  {
   "cell_type": "code",
   "execution_count": null,
   "metadata": {},
   "outputs": [],
   "source": [
    "import calculation_tool as ct\n",
    "file_path=\"/data/mouse_SFO/combined_data.h5ad\"\n",
    "add_markers=[\"NOS1\",\"CAMK2A\",\"CAMK2B\",\"ETV1\",\"RXFP1\",\"PDYN\"]\n",
    "adata,GPCR_df=ct.preprocess_adata_in_bulk(file_path,label=None,add_markers=add_markers,is_gpu=False)\n",
    "GPCR_df.to_csv(\"/data/mouse_SFO/combined_data_GPCR_df.csv\")"
   ]
  },
  {
   "cell_type": "code",
   "execution_count": 2,
   "metadata": {},
   "outputs": [],
   "source": [
    "file_path=\"/data/mouse_SFO/WT_SFO_adata_processed.h5ad\"\n",
    "adata=sc.read_h5ad(file_path)\n",
    "GPCR_df=pd.read_csv(\"/data/mouse_SFO/combined_data_GPCR_df.csv\")\n",
    "D_R_mtx,GPCR_type_df,drug_list,GPCR_list=ct.load_parameters()\n",
    "params=ct.set_parameters_for_preprocess(GPCR_list)"
   ]
  },
  {
   "cell_type": "code",
   "execution_count": null,
   "metadata": {},
   "outputs": [],
   "source": [
    "sc.pl.umap(adata, color=[\"CAMK2A_raw\"])"
   ]
  },
  {
   "cell_type": "code",
   "execution_count": null,
   "metadata": {},
   "outputs": [],
   "source": [
    "sc.pl.umap(adata, color=[\"RXFP1_raw\"])"
   ]
  },
  {
   "cell_type": "code",
   "execution_count": null,
   "metadata": {},
   "outputs": [],
   "source": [
    "sc.pl.umap(adata, color=[\"PDYN_raw\"])"
   ]
  },
  {
   "cell_type": "code",
   "execution_count": null,
   "metadata": {},
   "outputs": [],
   "source": [
    "adata.obs_keys"
   ]
  },
  {
   "cell_type": "code",
   "execution_count": null,
   "metadata": {},
   "outputs": [],
   "source": [
    "sc.pl.umap(adata, color=[\"is_clz_selective\"],palette=[\"grey\",\"red\"])"
   ]
  },
  {
   "cell_type": "code",
   "execution_count": null,
   "metadata": {},
   "outputs": [],
   "source": [
    "nos1_expression=adata.obs[\"NOS1_raw\"]"
   ]
  },
  {
   "cell_type": "code",
   "execution_count": null,
   "metadata": {},
   "outputs": [],
   "source": [
    "plt.hist(nos1_expression)"
   ]
  },
  {
   "cell_type": "code",
   "execution_count": null,
   "metadata": {},
   "outputs": [],
   "source": [
    "import matplotlib.pyplot as plt\n",
    "\n",
    "add_markers = [\"NOS1\", \"CAMK2A\", \"CAMK2B\", \"ETV1\", \"RXFP1\", \"PDYN\", \"SLC17A6\", \"SLC32A1\"]  # SLC17A6=VGLUT2, SLC32A1=VGAT\n",
    "for marker in add_markers:\n",
    "    # show=False にすることでプロットを描画せずに Axes オブジェクトを返す\n",
    "    ax = sc.pl.violin(adata, marker, groupby='leiden', show=False)\n",
    "    \n",
    "    # Axes オブジェクトのレジェンドを取得して削除\n",
    "    legend = ax.get_legend()\n",
    "    if legend is not None:\n",
    "        legend.remove()\n",
    "    \n",
    "    # プロットを表示\n",
    "    plt.show()"
   ]
  },
  {
   "cell_type": "code",
   "execution_count": null,
   "metadata": {},
   "outputs": [],
   "source": [
    "#thirst_cell_leiden=[4,12]\n",
    "thirst_cell_leiden=[11,16]\n",
    "adata.obs[\"is_thirst\"] = np.where(adata.obs[\"leiden\"].isin(thirst_cell_leiden), 1, 0)\n",
    "adata.obs[\"is_thirst\"] =adata.obs[\"is_thirst\"].astype(\"category\")"
   ]
  },
  {
   "cell_type": "code",
   "execution_count": null,
   "metadata": {},
   "outputs": [],
   "source": [
    "sc.pl.umap(adata, color=[\"is_thirst\"],palette=[\"grey\",\"red\"])"
   ]
  },
  {
   "cell_type": "code",
   "execution_count": null,
   "metadata": {},
   "outputs": [],
   "source": [
    "sc.pl.umap(adata, color=[\"is_clz_inhibited\"],palette=[\"grey\",\"red\"])"
   ]
  },
  {
   "cell_type": "code",
   "execution_count": null,
   "metadata": {},
   "outputs": [],
   "source": [
    "adata.obs_keys"
   ]
  },
  {
   "cell_type": "code",
   "execution_count": null,
   "metadata": {},
   "outputs": [],
   "source": [
    "\n",
    "import pandas as pd\n",
    "import matplotlib.pyplot as plt\n",
    "import seaborn as sns\n",
    "import scipy.stats as stats\n",
    "\n",
    "label_include_list=[\"plane\",\"water_sated\"]\n",
    "#label_include_list=[\"hypovolemic_thirst\",\"osmotic_thirst\",\"water_deprivation\"]\n",
    "adata_sated=adata[adata.obs['label'].isin(label_include_list)]\n",
    "# is_thirstがTrue（または1）のデータをフィルタリング\n",
    "thirsty_cells = adata_sated[adata_sated.obs['is_thirst'] == 1]\n",
    "\n",
    "# 長い形式（long-form）にデータを整形\n",
    "long_df = pd.melt(thirsty_cells.obs, id_vars=['is_thirst'], value_vars=['cAMP_CLOZAPINE', 'cAMP_OLANZAPINE','cAMP_HALOPERIDOL'])\n",
    "\n",
    "# value=0のcellを除外\n",
    "long_df=long_df[long_df.value!=0]\n",
    "\n",
    "# ボックスプロットを作成する\n",
    "plt.figure(figsize=(10, 6))\n",
    "#sns.boxplot(data=long_df, x='variable', y='value',whis=(25,75),\n",
    "#            showfliers=True,notch=True,medianprops={\"color\": \"r\", \"linewidth\": 2})\n",
    "sns.violinplot(data=long_df, x='variable', y='value')\n",
    "plt.title('Comparison of cAMP_CLOZAPINE and cAMP_OLANZAPINE in Thirsty Cells')\n",
    "plt.xlabel('Treatment')\n",
    "plt.ylabel('cAMP Levels')\n",
    "plt.show()\n",
    "\n",
    "# 統計検定\n",
    "clozapine_values = thirsty_cells.obs['cAMP_CLOZAPINE']\n",
    "olanzapine_values = thirsty_cells.obs['cAMP_OLANZAPINE']\n",
    "\n",
    "# t-test\n",
    "t_stat, t_pval = stats.ttest_ind(clozapine_values, olanzapine_values, equal_var=False)\n",
    "\n",
    "# Mann-Whitney U test\n",
    "u_stat, u_pval = stats.mannwhitneyu(clozapine_values, olanzapine_values)\n",
    "\n",
    "print(f\"T-test statistic: {t_stat}, p-value: {t_pval}\")\n",
    "print(f\"Mann-Whitney U test statistic: {u_stat}, p-value: {u_pval}\")"
   ]
  },
  {
   "cell_type": "code",
   "execution_count": null,
   "metadata": {},
   "outputs": [],
   "source": [
    "long_df"
   ]
  }
 ],
 "metadata": {
  "kernelspec": {
   "display_name": "base",
   "language": "python",
   "name": "python3"
  },
  "language_info": {
   "codemirror_mode": {
    "name": "ipython",
    "version": 3
   },
   "file_extension": ".py",
   "mimetype": "text/x-python",
   "name": "python",
   "nbconvert_exporter": "python",
   "pygments_lexer": "ipython3",
   "version": "3.12.9"
  }
 },
 "nbformat": 4,
 "nbformat_minor": 4
}
