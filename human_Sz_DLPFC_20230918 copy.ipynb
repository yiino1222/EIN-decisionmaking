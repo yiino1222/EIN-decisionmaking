{
 "cells": [
  {
   "cell_type": "markdown",
   "metadata": {},
   "source": [
    "# RAPIDS & Scanpy Single-Cell RNA-seq Workflow on mouse NAc cells"
   ]
  },
  {
   "cell_type": "markdown",
   "metadata": {},
   "source": [
    "Copyright (c) 2020, NVIDIA CORPORATION.\n",
    "\n",
    "Licensed under the Apache License, Version 2.0 (the \"License\") you may not use this file except in compliance with the License. You may obtain a copy of the License at\n",
    "\n",
    "    http://www.apache.org/licenses/LICENSE-2.0 \n",
    "\n",
    "Unless required by applicable law or agreed to in writing, software distributed under the License is distributed on an \"AS IS\" BASIS, WITHOUT WARRANTIES OR CONDITIONS OF ANY KIND, either express or implied. See the License for the specific language governing permissions and limitations under the License."
   ]
  },
  {
   "cell_type": "markdown",
   "metadata": {},
   "source": [
    "This notebook demonstrates a single-cell RNA analysis workflow that begins with preprocessing a count matrix of size `(n_gene, n_cell)` and results in a visualization of the clustered cells for further analysis."
   ]
  },
  {
   "cell_type": "markdown",
   "metadata": {},
   "source": [
    "For demonstration purposes, we use a dataset of 1.3 M brain cells with Unified Virtual Memory to oversubscribe GPU memory."
   ]
  },
  {
   "cell_type": "markdown",
   "metadata": {},
   "source": [
    "## Import requirements"
   ]
  },
  {
   "cell_type": "code",
   "execution_count": 1,
   "metadata": {},
   "outputs": [
    {
     "ename": "",
     "evalue": "",
     "output_type": "error",
     "traceback": [
      "\u001b[1;31mThe Kernel crashed while executing code in the current cell or a previous cell. \n",
      "\u001b[1;31mPlease review the code in the cell(s) to identify a possible cause of the failure. \n",
      "\u001b[1;31mClick <a href='https://aka.ms/vscodeJupyterKernelCrash'>here</a> for more info. \n",
      "\u001b[1;31mView Jupyter <a href='command:jupyter.viewOutput'>log</a> for further details."
     ]
    }
   ],
   "source": [
    "import numpy as np\n",
    "import scanpy as sc\n",
    "import anndata\n",
    "\n",
    "import time\n",
    "import os, wget\n",
    "\n",
    "import cupy as cp\n",
    "import cudf\n",
    "\n",
    "from cuml.decomposition import PCA\n",
    "from cuml.manifold import TSNE\n",
    "from cuml.cluster import KMeans\n",
    "from cuml.preprocessing import StandardScaler\n",
    "\n",
    "import rapids_scanpy_funcs\n",
    "import utils\n",
    "\n",
    "import warnings\n",
    "warnings.filterwarnings('ignore', 'Expected ')\n",
    "warnings.simplefilter('ignore')\n",
    "import pandas as pd\n",
    "from sh import gunzip\n",
    "import matplotlib\n",
    "import matplotlib.pyplot as plt\n",
    "from matplotlib.colors import LogNorm\n",
    "matplotlib.rcParams['pdf.fonttype'] = 42\n",
    "matplotlib.rcParams['ps.fonttype'] = 42\n",
    "\n",
    "import calculation_tool as ct"
   ]
  },
  {
   "cell_type": "markdown",
   "metadata": {},
   "source": [
    "We use the RAPIDS memory manager to enable Unified Virtual Memory management, which allows us to oversubscribe the GPU memory."
   ]
  },
  {
   "cell_type": "code",
   "execution_count": 2,
   "metadata": {},
   "outputs": [],
   "source": [
    "import rmm\n",
    "\n",
    "rmm.reinitialize(managed_memory=True)\n",
    "cp.cuda.set_allocator(rmm.rmm_cupy_allocator)"
   ]
  },
  {
   "cell_type": "markdown",
   "metadata": {},
   "source": [
    "## Input data"
   ]
  },
  {
   "cell_type": "markdown",
   "metadata": {},
   "source": [
    "In the cell below, we provide the path to the sparse `.h5ad` file containing the count matrix to analyze. Please see the README for instructions on how to download the dataset we use here.\n",
    "\n",
    "To run this notebook using your own dataset, please see the README for instructions to convert your own count matrix into this format. Then, replace the path in the cell below with the path to your generated `.h5ad` file."
   ]
  },
  {
   "cell_type": "markdown",
   "metadata": {},
   "source": [
    "## load data"
   ]
  },
  {
   "cell_type": "code",
   "execution_count": 3,
   "metadata": {},
   "outputs": [],
   "source": [
    "import os\n",
    "import scanpy as sc\n",
    "import pandas as pd\n",
    "from scipy import sparse\n",
    "import anndata\n",
    "\n",
    "def load_and_merge_data_v3(base_dir):\n",
    "    # 処理する条件（controlとschizophrenia）をリストとして定義\n",
    "    conditions = ['control', 'schizophrenia']\n",
    "    \n",
    "    count = 0\n",
    "    for condition in conditions:\n",
    "        condition_path = os.path.join(base_dir, condition)\n",
    "        \n",
    "        # 各条件下でのサンプル名（MB7、MB8など）を取得\n",
    "        samples = os.listdir(condition_path)\n",
    "        \n",
    "        for sample in samples:\n",
    "            sample_path = os.path.join(condition_path, sample, 'matrix.tsv')\n",
    "            \n",
    "            # pandasでTSVファイルを読み込み\n",
    "            if count == 0:\n",
    "                adata=sc.read_csv(sample_path,delimiter='\\t').T\n",
    "                sparse_X = sparse.csr_matrix(adata.X)\n",
    "                adata.X = sparse_X\n",
    "                adata.obs['condition'] = condition\n",
    "                adata.obs['sample'] = sample\n",
    "            else:\n",
    "                adata_append = sc.read_csv(sample_path,delimiter='\\t').T\n",
    "                sparse_X = sparse.csr_matrix(adata_append.X)\n",
    "                adata_append.X = sparse_X\n",
    "                adata_append.obs['condition'] = condition\n",
    "                adata_append.obs['sample'] = sample\n",
    "            \n",
    "                # 連結\n",
    "                adata = anndata.concat([adata, adata_append])\n",
    "                print(adata.X.shape)\n",
    "            \n",
    "            count += 1\n",
    "            \n",
    "    return adata\n",
    "\n",
    "base_dir = '/temp/data/human_Sz_PFC_each'\n",
    "#adata = load_and_merge_data_v3(base_dir)\n",
    "file_path=\"/temp/data/human_Sz_PFC_each/merged_adata.h5ad\"\n",
    "#adata.write(file_path)"
   ]
  },
  {
   "cell_type": "code",
   "execution_count": 4,
   "metadata": {},
   "outputs": [
    {
     "name": "stdout",
     "output_type": "stream",
     "text": [
      "(203786, 60617)\n"
     ]
    }
   ],
   "source": [
    "base_dir = '/temp/data/human_Sz_PFC_each'\n",
    "#adata = load_and_merge_data_v3(base_dir)\n",
    "file_path=\"/temp/data/human_Sz_PFC_each/merged_adata.h5ad\"\n",
    "adata = anndata.read_h5ad(file_path)\n",
    "print(adata.X.shape)"
   ]
  },
  {
   "cell_type": "code",
   "execution_count": 4,
   "metadata": {},
   "outputs": [],
   "source": [
    "D_R_mtx=pd.read_csv(\"/temp/drug_receptor_mtx.csv\",index_col=0)\n",
    "GPCR_type_df=pd.read_csv(\"/temp/GPCR_df.csv\",index_col=0)\n",
    "\n",
    "drug_list=D_R_mtx.index.to_list()\n",
    "GPCR_list=[\"HTR1A\",\"HTR1B\",\"HTR1D\",\"HTR1E\",\"HTR2A\",\"HTR2B\",\"HTR2C\",\n",
    "\"HTR3A\",\"HTR4\",\"HTR5A\",\"HTR6\",\"HTR7\",\"DRD1\",\"DRD2\",\"DRD3\",\"DRD4\",\"DRD5\",\n",
    "\"HRH1\",\"HRH2\",\"HRH3\",\"CHRM1\",\"CHRM2\",\"CHRM3\",\"CHRM4\",\"CHRM5\",\n",
    "\"ADRA1A\",\"ADRA1B\",\"ADRA2A\",\"ADRA2B\",\"ADRA2C\",\"ADRB1\",\"ADRB2\"]\n",
    "D_R_mtx.columns=GPCR_list"
   ]
  },
  {
   "cell_type": "code",
   "execution_count": 5,
   "metadata": {},
   "outputs": [],
   "source": [
    "# maximum number of cells to load from files\n",
    "USE_FIRST_N_CELLS = 300000\n",
    "\n",
    "# marker genes\n",
    "MITO_GENE_PREFIX = \"mt-\" # Prefix for mitochondrial genes to regress out\n",
    "markers = [\"CX3CR1\",\"CLDN5\",\"GLUL\",\"NDRG2\",\"PCDH15\",\"PLP1\",\"MBP\",\"SATB2\",\"SLC17A7\",\n",
    "\"SLC17A6\",\"GAD2\",\"GAD1\",\"SNAP25\"] # Marker genes for visualization\n",
    "#print(d_r_column_rep[1:])\n",
    "markers.extend(GPCR_list)\n",
    "markers = [str.upper() for str in markers]\n",
    "\n",
    "# filtering cells\n",
    "min_genes_per_cell = 200 # Filter out cells with fewer genes than this expressed \n",
    "max_genes_per_cell = 6000 # Filter out cells with more genes than this expressed \n",
    "\n",
    "# filtering genes\n",
    "min_cells_per_gene = 1 # Filter out genes expressed in fewer cells than this\n",
    "n_top_genes = 4000 # Number of highly variable genes to retain\n",
    "\n",
    "# PCA\n",
    "n_components = 50 # Number of principal components to compute\n",
    "\n",
    "# Batched PCA\n",
    "pca_train_ratio = 0.35 # percentage of cells to use for PCA training\n",
    "n_pca_batches = 10\n",
    "\n",
    "# t-SNE\n",
    "tsne_n_pcs = 20 # Number of principal components to use for t-SNE\n",
    "\n",
    "# k-means\n",
    "k = 35 # Number of clusters for k-means\n",
    "\n",
    "# KNN\n",
    "n_neighbors = 15 # Number of nearest neighbors for KNN graph\n",
    "knn_n_pcs = 50 # Number of principal components to use for finding nearest neighbors\n",
    "\n",
    "# UMAP\n",
    "umap_min_dist = 0.3 \n",
    "umap_spread = 1.0"
   ]
  },
  {
   "cell_type": "code",
   "execution_count": null,
   "metadata": {},
   "outputs": [],
   "source": [
    "preprocess_start = time.time()"
   ]
  },
  {
   "cell_type": "code",
   "execution_count": 6,
   "metadata": {},
   "outputs": [
    {
     "name": "stdout",
     "output_type": "stream",
     "text": [
      "Calculating data size.\n",
      "Filtering cells\n",
      "Identifying genes to filter\n",
      "Filtering genes and normalizing data\n",
      "Calculating highly variable genes.\n",
      "Storing raw marker gene expression.\n",
      "Filtering highly variable genes.\n"
     ]
    }
   ],
   "source": [
    "file_path=\"/temp/data/human_Sz_PFC_each/merged_adata.h5ad\"\n",
    "sparse_gpu_array, genes, marker_genes_raw = \\\n",
    "    rapids_scanpy_funcs.preprocess_in_batches(file_path, \n",
    "                                              markers, \n",
    "                                              min_genes_per_cell=min_genes_per_cell, \n",
    "                                              max_genes_per_cell=max_genes_per_cell, \n",
    "                                              min_cells_per_gene=min_cells_per_gene, \n",
    "                                              target_sum=1e4, \n",
    "                                              n_top_genes=n_top_genes,\n",
    "                                              max_cells=USE_FIRST_N_CELLS)"
   ]
  },
  {
   "cell_type": "code",
   "execution_count": null,
   "metadata": {},
   "outputs": [],
   "source": [
    "file_path=\"/temp/data/human_Sz_PFC_each/merged_adata.h5ad\"\n",
    "adata_processed=ct.preprocess_adata(file_path)"
   ]
  }
 ],
 "metadata": {
  "kernelspec": {
   "display_name": "base",
   "language": "python",
   "name": "python3"
  },
  "language_info": {
   "codemirror_mode": {
    "name": "ipython",
    "version": 3
   },
   "file_extension": ".py",
   "mimetype": "text/x-python",
   "name": "python",
   "nbconvert_exporter": "python",
   "pygments_lexer": "ipython3",
   "version": "3.12.9"
  }
 },
 "nbformat": 4,
 "nbformat_minor": 4
}
