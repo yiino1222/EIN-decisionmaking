{
 "cells": [
  {
   "cell_type": "markdown",
   "metadata": {},
   "source": [
    "# RAPIDS & Scanpy Single-Cell RNA-seq Workflow on 1.3 Million Cells"
   ]
  },
  {
   "cell_type": "markdown",
   "metadata": {},
   "source": [
    "Copyright (c) 2020, NVIDIA CORPORATION.\n",
    "\n",
    "Licensed under the Apache License, Version 2.0 (the \"License\") you may not use this file except in compliance with the License. You may obtain a copy of the License at\n",
    "\n",
    "    http://www.apache.org/licenses/LICENSE-2.0 \n",
    "\n",
    "Unless required by applicable law or agreed to in writing, software distributed under the License is distributed on an \"AS IS\" BASIS, WITHOUT WARRANTIES OR CONDITIONS OF ANY KIND, either express or implied. See the License for the specific language governing permissions and limitations under the License."
   ]
  },
  {
   "cell_type": "markdown",
   "metadata": {},
   "source": [
    "This notebook demonstrates a single-cell RNA analysis workflow that begins with preprocessing a count matrix of size `(n_gene, n_cell)` and results in a visualization of the clustered cells for further analysis."
   ]
  },
  {
   "cell_type": "markdown",
   "metadata": {},
   "source": [
    "For demonstration purposes, we use a dataset of 1M brain cells with Unified Virtual Memory to oversubscribe GPU memory. See the README for instructions to download this dataset."
   ]
  },
  {
   "cell_type": "markdown",
   "metadata": {},
   "source": [
    "## Change to the notebooks directory"
   ]
  },
  {
   "cell_type": "markdown",
   "metadata": {},
   "source": [
    "Change into the *notebooks* directory. You may need to modify your path depending on where you cloned the repo."
   ]
  },
  {
   "cell_type": "markdown",
   "metadata": {},
   "source": [
    "## Import requirements"
   ]
  },
  {
   "cell_type": "code",
   "execution_count": 1,
   "metadata": {},
   "outputs": [],
   "source": [
    "import numpy as np\n",
    "import scanpy as sc\n",
    "import anndata\n",
    "\n",
    "import dask\n",
    "import time\n",
    "\n",
    "import cudf\n",
    "import cuml\n",
    "import cupy as cp\n",
    "\n",
    "import os, wget\n",
    "\n",
    "from cuml.decomposition import PCA\n",
    "from cuml.manifold import TSNE\n",
    "from cuml.cluster import KMeans\n",
    "\n",
    "from dask_cuda import initialize, LocalCUDACluster\n",
    "from dask.distributed import Client, default_client\n",
    "\n",
    "import rapids_scanpy_funcs\n",
    "import utils\n",
    "\n",
    "import logging\n",
    "import warnings\n",
    "warnings.filterwarnings('ignore')\n",
    "warnings.simplefilter('ignore')\n",
    "\n",
    "#cuml.__version__"
   ]
  },
  {
   "cell_type": "markdown",
   "metadata": {},
   "source": [
    "We use the RAPIDS memory manager to enable Unified Virtual Memory management, which allows us to oversubscribe the GPU memory.\n",
    "\n"
   ]
  },
  {
   "cell_type": "code",
   "execution_count": 2,
   "metadata": {},
   "outputs": [],
   "source": [
    "import rmm\n",
    "from rmm.allocators.cupy import rmm_cupy_allocator\n",
    "\n",
    "def set_mem():\n",
    "    rmm.reinitialize(managed_memory=True)\n",
    "    cp.cuda.set_allocator(rmm_cupy_allocator)"
   ]
  },
  {
   "cell_type": "markdown",
   "metadata": {},
   "source": [
    "Set `preprocessing_gpus` below to specify the GPUs to use for preprocessing. For example, numbers 0-7 can be used on a machine with 8 gpus. Specifying a specific number, such as 5, will use only the 6th GPU on the machine. In practice, it's often a good idea to use GPUs 1-7 for pre-processing and GPU0 for downstream clustering, visualization, and differential gene expression steps. "
   ]
  },
  {
   "cell_type": "code",
   "execution_count": 3,
   "metadata": {},
   "outputs": [],
   "source": [
    "preprocessing_gpus=\"1, 2\""
   ]
  },
  {
   "cell_type": "code",
   "execution_count": 4,
   "metadata": {},
   "outputs": [
    {
     "data": {
      "text/html": [
       "<div>\n",
       "    <div style=\"width: 24px; height: 24px; background-color: #e1e1e1; border: 3px solid #9D9D9D; border-radius: 5px; position: absolute;\"> </div>\n",
       "    <div style=\"margin-left: 48px;\">\n",
       "        <h3 style=\"margin-bottom: 0px;\">Client</h3>\n",
       "        <p style=\"color: #9D9D9D; margin-bottom: 0px;\">Client-461c8e83-11e4-11f0-9ee9-0242ac110002</p>\n",
       "        <table style=\"width: 100%; text-align: left;\">\n",
       "\n",
       "        <tr>\n",
       "        \n",
       "            <td style=\"text-align: left;\"><strong>Connection method:</strong> Cluster object</td>\n",
       "            <td style=\"text-align: left;\"><strong>Cluster type:</strong> dask_cuda.LocalCUDACluster</td>\n",
       "        \n",
       "        </tr>\n",
       "\n",
       "        \n",
       "            <tr>\n",
       "                <td style=\"text-align: left;\">\n",
       "                    <strong>Dashboard: </strong> <a href=\"http://127.0.0.1:8787/status\" target=\"_blank\">http://127.0.0.1:8787/status</a>\n",
       "                </td>\n",
       "                <td style=\"text-align: left;\"></td>\n",
       "            </tr>\n",
       "        \n",
       "\n",
       "        </table>\n",
       "\n",
       "        \n",
       "\n",
       "        \n",
       "            <details>\n",
       "            <summary style=\"margin-bottom: 20px;\"><h3 style=\"display: inline;\">Cluster Info</h3></summary>\n",
       "            <div class=\"jp-RenderedHTMLCommon jp-RenderedHTML jp-mod-trusted jp-OutputArea-output\">\n",
       "    <div style=\"width: 24px; height: 24px; background-color: #e1e1e1; border: 3px solid #9D9D9D; border-radius: 5px; position: absolute;\">\n",
       "    </div>\n",
       "    <div style=\"margin-left: 48px;\">\n",
       "        <h3 style=\"margin-bottom: 0px; margin-top: 0px;\">LocalCUDACluster</h3>\n",
       "        <p style=\"color: #9D9D9D; margin-bottom: 0px;\">18b326b3</p>\n",
       "        <table style=\"width: 100%; text-align: left;\">\n",
       "            <tr>\n",
       "                <td style=\"text-align: left;\">\n",
       "                    <strong>Dashboard:</strong> <a href=\"http://127.0.0.1:8787/status\" target=\"_blank\">http://127.0.0.1:8787/status</a>\n",
       "                </td>\n",
       "                <td style=\"text-align: left;\">\n",
       "                    <strong>Workers:</strong> 2\n",
       "                </td>\n",
       "            </tr>\n",
       "            <tr>\n",
       "                <td style=\"text-align: left;\">\n",
       "                    <strong>Total threads:</strong> 2\n",
       "                </td>\n",
       "                <td style=\"text-align: left;\">\n",
       "                    <strong>Total memory:</strong> 125.50 GiB\n",
       "                </td>\n",
       "            </tr>\n",
       "            \n",
       "            <tr>\n",
       "    <td style=\"text-align: left;\"><strong>Status:</strong> running</td>\n",
       "    <td style=\"text-align: left;\"><strong>Using processes:</strong> True</td>\n",
       "</tr>\n",
       "\n",
       "            \n",
       "        </table>\n",
       "\n",
       "        <details>\n",
       "            <summary style=\"margin-bottom: 20px;\">\n",
       "                <h3 style=\"display: inline;\">Scheduler Info</h3>\n",
       "            </summary>\n",
       "\n",
       "            <div style=\"\">\n",
       "    <div>\n",
       "        <div style=\"width: 24px; height: 24px; background-color: #FFF7E5; border: 3px solid #FF6132; border-radius: 5px; position: absolute;\"> </div>\n",
       "        <div style=\"margin-left: 48px;\">\n",
       "            <h3 style=\"margin-bottom: 0px;\">Scheduler</h3>\n",
       "            <p style=\"color: #9D9D9D; margin-bottom: 0px;\">Scheduler-b966751e-f71c-4806-93bd-c4ede9903b85</p>\n",
       "            <table style=\"width: 100%; text-align: left;\">\n",
       "                <tr>\n",
       "                    <td style=\"text-align: left;\">\n",
       "                        <strong>Comm:</strong> tcp://127.0.0.1:43739\n",
       "                    </td>\n",
       "                    <td style=\"text-align: left;\">\n",
       "                        <strong>Workers:</strong> 2\n",
       "                    </td>\n",
       "                </tr>\n",
       "                <tr>\n",
       "                    <td style=\"text-align: left;\">\n",
       "                        <strong>Dashboard:</strong> <a href=\"http://127.0.0.1:8787/status\" target=\"_blank\">http://127.0.0.1:8787/status</a>\n",
       "                    </td>\n",
       "                    <td style=\"text-align: left;\">\n",
       "                        <strong>Total threads:</strong> 2\n",
       "                    </td>\n",
       "                </tr>\n",
       "                <tr>\n",
       "                    <td style=\"text-align: left;\">\n",
       "                        <strong>Started:</strong> Just now\n",
       "                    </td>\n",
       "                    <td style=\"text-align: left;\">\n",
       "                        <strong>Total memory:</strong> 125.50 GiB\n",
       "                    </td>\n",
       "                </tr>\n",
       "            </table>\n",
       "        </div>\n",
       "    </div>\n",
       "\n",
       "    <details style=\"margin-left: 48px;\">\n",
       "        <summary style=\"margin-bottom: 20px;\">\n",
       "            <h3 style=\"display: inline;\">Workers</h3>\n",
       "        </summary>\n",
       "\n",
       "        \n",
       "        <div style=\"margin-bottom: 20px;\">\n",
       "            <div style=\"width: 24px; height: 24px; background-color: #DBF5FF; border: 3px solid #4CC9FF; border-radius: 5px; position: absolute;\"> </div>\n",
       "            <div style=\"margin-left: 48px;\">\n",
       "            <details>\n",
       "                <summary>\n",
       "                    <h4 style=\"margin-bottom: 0px; display: inline;\">Worker: 1</h4>\n",
       "                </summary>\n",
       "                <table style=\"width: 100%; text-align: left;\">\n",
       "                    <tr>\n",
       "                        <td style=\"text-align: left;\">\n",
       "                            <strong>Comm: </strong> tcp://127.0.0.1:44315\n",
       "                        </td>\n",
       "                        <td style=\"text-align: left;\">\n",
       "                            <strong>Total threads: </strong> 1\n",
       "                        </td>\n",
       "                    </tr>\n",
       "                    <tr>\n",
       "                        <td style=\"text-align: left;\">\n",
       "                            <strong>Dashboard: </strong> <a href=\"http://127.0.0.1:41089/status\" target=\"_blank\">http://127.0.0.1:41089/status</a>\n",
       "                        </td>\n",
       "                        <td style=\"text-align: left;\">\n",
       "                            <strong>Memory: </strong> 62.75 GiB\n",
       "                        </td>\n",
       "                    </tr>\n",
       "                    <tr>\n",
       "                        <td style=\"text-align: left;\">\n",
       "                            <strong>Nanny: </strong> tcp://127.0.0.1:35975\n",
       "                        </td>\n",
       "                        <td style=\"text-align: left;\"></td>\n",
       "                    </tr>\n",
       "                    <tr>\n",
       "                        <td colspan=\"2\" style=\"text-align: left;\">\n",
       "                            <strong>Local directory: </strong> /tmp/dask-scratch-space/worker-2ppmcmr2\n",
       "                        </td>\n",
       "                    </tr>\n",
       "\n",
       "                    \n",
       "\n",
       "                    \n",
       "\n",
       "                </table>\n",
       "            </details>\n",
       "            </div>\n",
       "        </div>\n",
       "        \n",
       "        <div style=\"margin-bottom: 20px;\">\n",
       "            <div style=\"width: 24px; height: 24px; background-color: #DBF5FF; border: 3px solid #4CC9FF; border-radius: 5px; position: absolute;\"> </div>\n",
       "            <div style=\"margin-left: 48px;\">\n",
       "            <details>\n",
       "                <summary>\n",
       "                    <h4 style=\"margin-bottom: 0px; display: inline;\">Worker: 2</h4>\n",
       "                </summary>\n",
       "                <table style=\"width: 100%; text-align: left;\">\n",
       "                    <tr>\n",
       "                        <td style=\"text-align: left;\">\n",
       "                            <strong>Comm: </strong> tcp://127.0.0.1:36119\n",
       "                        </td>\n",
       "                        <td style=\"text-align: left;\">\n",
       "                            <strong>Total threads: </strong> 1\n",
       "                        </td>\n",
       "                    </tr>\n",
       "                    <tr>\n",
       "                        <td style=\"text-align: left;\">\n",
       "                            <strong>Dashboard: </strong> <a href=\"http://127.0.0.1:38295/status\" target=\"_blank\">http://127.0.0.1:38295/status</a>\n",
       "                        </td>\n",
       "                        <td style=\"text-align: left;\">\n",
       "                            <strong>Memory: </strong> 62.75 GiB\n",
       "                        </td>\n",
       "                    </tr>\n",
       "                    <tr>\n",
       "                        <td style=\"text-align: left;\">\n",
       "                            <strong>Nanny: </strong> tcp://127.0.0.1:38417\n",
       "                        </td>\n",
       "                        <td style=\"text-align: left;\"></td>\n",
       "                    </tr>\n",
       "                    <tr>\n",
       "                        <td colspan=\"2\" style=\"text-align: left;\">\n",
       "                            <strong>Local directory: </strong> /tmp/dask-scratch-space/worker-kzk5o5ad\n",
       "                        </td>\n",
       "                    </tr>\n",
       "\n",
       "                    \n",
       "\n",
       "                    \n",
       "\n",
       "                </table>\n",
       "            </details>\n",
       "            </div>\n",
       "        </div>\n",
       "        \n",
       "\n",
       "    </details>\n",
       "</div>\n",
       "\n",
       "        </details>\n",
       "    </div>\n",
       "</div>\n",
       "            </details>\n",
       "        \n",
       "\n",
       "    </div>\n",
       "</div>"
      ],
      "text/plain": [
       "<Client: 'tcp://127.0.0.1:43739' processes=2 threads=2, memory=125.50 GiB>"
      ]
     },
     "execution_count": 4,
     "metadata": {},
     "output_type": "execute_result"
    }
   ],
   "source": [
    "cluster = LocalCUDACluster(CUDA_VISIBLE_DEVICES=preprocessing_gpus)\n",
    "client = Client(cluster)    \n",
    "\n",
    "set_mem()\n",
    "client.run(set_mem)\n",
    "\n",
    "client"
   ]
  },
  {
   "cell_type": "markdown",
   "metadata": {},
   "source": [
    "## Input data"
   ]
  },
  {
   "cell_type": "markdown",
   "metadata": {},
   "source": [
    "In the cell below, we provide the path to the sparse `.h5ad` file containing the count matrix to analyze.\n",
    "\n",
    "To run this notebook using your own dataset, please see the README for instructions to convert your own count matrix into this format. Then, replace the path in the cell below with the path to your generated `.h5ad` file."
   ]
  },
  {
   "cell_type": "code",
   "execution_count": null,
   "metadata": {},
   "outputs": [],
   "source": [
    "input_file = \"/data/1M_brain_cells_10X.sparse.h5ad\"\n",
    "\n",
    "if not os.path.exists(input_file):\n",
    "    print('Downloading import file...')\n",
    "    os.makedirs('/data', exist_ok=True)\n",
    "    wget.download('https://rapids-single-cell-examples.s3.us-east-2.amazonaws.com/1M_brain_cells_10X.sparse.h5ad',\n",
    "              input_file)"
   ]
  },
  {
   "cell_type": "code",
   "execution_count": 5,
   "metadata": {},
   "outputs": [],
   "source": [
    "#input_file = \"/data/1M_brain_cells_10X.sparse.h5ad\"\n",
    "input_file = \"/data/human_Sz_PFC_each/control_merged_data.h5ad\""
   ]
  },
  {
   "cell_type": "markdown",
   "metadata": {},
   "source": [
    "## Set parameters"
   ]
  },
  {
   "cell_type": "code",
   "execution_count": 6,
   "metadata": {},
   "outputs": [],
   "source": [
    "# marker genes\n",
    "MITO_GENE_PREFIX = \"mt-\" # Prefix for mitochondrial genes to regress out\n",
    "markers = [\"Stmn2\", \"Hes1\", \"Olig1\"] # Marker genes for visualization\n",
    "\n",
    "# filtering cells\n",
    "min_genes_per_cell = 200 # Filter out cells with fewer genes than this expressed \n",
    "max_genes_per_cell = 6000 # Filter out cells with more genes than this expressed \n",
    "\n",
    "# filtering genes\n",
    "n_top_genes = 4000 # Number of highly variable genes to retain\n",
    "\n",
    "# PCA\n",
    "n_components = 50 # Number of principal components to compute\n",
    "\n",
    "# t-SNE\n",
    "tsne_n_pcs = 20 # Number of principal components to use for t-SNE\n",
    "\n",
    "# k-means\n",
    "k = 35 # Number of clusters for k-means\n",
    "\n",
    "# KNN\n",
    "n_neighbors = 15 # Number of nearest neighbors for KNN graph\n",
    "knn_n_pcs = 50 # Number of principal components to use for finding nearest neighbors\n",
    "\n",
    "# UMAP\n",
    "umap_min_dist = 0.3 \n",
    "umap_spread = 1.0"
   ]
  },
  {
   "cell_type": "code",
   "execution_count": 7,
   "metadata": {},
   "outputs": [],
   "source": [
    "n_workers = len(client.scheduler_info()['workers'])"
   ]
  },
  {
   "cell_type": "code",
   "execution_count": 8,
   "metadata": {},
   "outputs": [],
   "source": [
    "start = time.time()"
   ]
  },
  {
   "cell_type": "markdown",
   "metadata": {},
   "source": [
    "## Load and Preprocess Data"
   ]
  },
  {
   "cell_type": "code",
   "execution_count": 9,
   "metadata": {},
   "outputs": [],
   "source": [
    "data_load_preprocess_start = time.time()"
   ]
  },
  {
   "cell_type": "markdown",
   "metadata": {},
   "source": [
    "Below, we load the sparse count matrix from the `.h5ad` file into GPU using a custom function. While reading the dataset, filters are applied on the count matrix to remove cells with an extreme number of genes expressed. Genes will zero expression in all cells are also eliminated. \n",
    "\n",
    "The custom function uses [Dask](https://dask.org) to partition data. The above mentioned filters are applied on individual partitions. Usage of Dask along with cupy provides the following benefits:\n",
    "- Parallelized data loading when multiple GPUs are available\n",
    "- Ability to partition the data allows pre-processing large datasets\n",
    "\n",
    "Filters are applied on individual batches of cells. Elementwise or cell-level normalization operations are also performed while reading. For this example, the following two operations are performed:\n",
    "- Normalize the count matrix so that the total counts in each cell sum to 1e4.\n",
    "- Log transform the count matrix."
   ]
  },
  {
   "cell_type": "code",
   "execution_count": 10,
   "metadata": {},
   "outputs": [
    {
     "name": "stdout",
     "output_type": "stream",
     "text": [
      "CPU times: user 3.69 s, sys: 2.25 s, total: 5.94 s\n",
      "Wall time: 1min 22s\n"
     ]
    }
   ],
   "source": [
    "%%time\n",
    "import rapids_scanpy_funcs\n",
    "\n",
    "def partial_post_processor(partial_data):\n",
    "    partial_data = rapids_scanpy_funcs.normalize_total(partial_data, target_sum=1e4)\n",
    "    return partial_data.log1p()\n",
    "\n",
    "dask_sparse_arr, genes, query = rapids_scanpy_funcs.read_with_filter(client,\n",
    "                                                       input_file,\n",
    "                                                       min_genes_per_cell=min_genes_per_cell,\n",
    "                                                       max_genes_per_cell=max_genes_per_cell,\n",
    "                                                       partial_post_processor=partial_post_processor)\n",
    "dask_sparse_arr = dask_sparse_arr.persist()"
   ]
  },
  {
   "cell_type": "markdown",
   "metadata": {},
   "source": [
    "# Verify the shape of the resulting sparse matrix:"
   ]
  },
  {
   "cell_type": "code",
   "execution_count": 11,
   "metadata": {},
   "outputs": [
    {
     "data": {
      "text/plain": [
       "(127236, 41583)"
      ]
     },
     "execution_count": 11,
     "metadata": {},
     "output_type": "execute_result"
    }
   ],
   "source": [
    "dask_sparse_arr.shape"
   ]
  },
  {
   "cell_type": "markdown",
   "metadata": {},
   "source": [
    "### Select Most Variable Genes"
   ]
  },
  {
   "cell_type": "markdown",
   "metadata": {},
   "source": [
    "Before filtering the count matrix, we save the 'raw' expression values of the marker genes to use for labeling cells afterward."
   ]
  },
  {
   "cell_type": "code",
   "execution_count": 12,
   "metadata": {},
   "outputs": [
    {
     "name": "stdout",
     "output_type": "stream",
     "text": [
      "CPU times: user 14.8 ms, sys: 3.28 ms, total: 18.1 ms\n",
      "Wall time: 15.4 ms\n"
     ]
    }
   ],
   "source": [
    "%%time\n",
    "marker_genes_raw = {}\n",
    "i = 0\n",
    "for index in genes[genes.isin(markers)].index.to_arrow().to_pylist():\n",
    "    marker_genes_raw[markers[i]] = dask_sparse_arr[:, index].compute().toarray().ravel()\n",
    "    i += 1"
   ]
  },
  {
   "cell_type": "markdown",
   "metadata": {},
   "source": [
    "Filter the count matrix to retain only the most variable genes."
   ]
  },
  {
   "cell_type": "code",
   "execution_count": 13,
   "metadata": {},
   "outputs": [
    {
     "name": "stdout",
     "output_type": "stream",
     "text": [
      "CPU times: user 790 ms, sys: 358 ms, total: 1.15 s\n",
      "Wall time: 3.84 s\n"
     ]
    }
   ],
   "source": [
    "%%time\n",
    "\n",
    "hvg = rapids_scanpy_funcs.highly_variable_genes_filter(client, dask_sparse_arr, genes, n_top_genes=n_top_genes)\n",
    "\n",
    "genes = genes[hvg]\n",
    "dask_sparse_arr = dask_sparse_arr[:, hvg]\n",
    "sparse_gpu_array = dask_sparse_arr.compute()\n",
    "\n",
    "del hvg"
   ]
  },
  {
   "cell_type": "markdown",
   "metadata": {},
   "source": [
    "### Regress out confounding factors (number of counts, mitochondrial gene expression)"
   ]
  },
  {
   "cell_type": "markdown",
   "metadata": {},
   "source": [
    "We can now perform regression on the count matrix to correct for confounding factors -  for example purposes, we use the number of counts and the expression of mitochondrial genes (named starting with `mt-`)."
   ]
  },
  {
   "cell_type": "markdown",
   "metadata": {},
   "source": [
    "We now calculate the total counts and the percentage of mitochondrial counts for each cell."
   ]
  },
  {
   "cell_type": "code",
   "execution_count": 14,
   "metadata": {},
   "outputs": [
    {
     "name": "stdout",
     "output_type": "stream",
     "text": [
      "CPU times: user 165 ms, sys: 41.6 ms, total: 207 ms\n",
      "Wall time: 198 ms\n"
     ]
    }
   ],
   "source": [
    "%%time\n",
    "sparse_gpu_array = sparse_gpu_array.tocsc()\n",
    "\n",
    "mito_genes = genes.str.startswith(MITO_GENE_PREFIX).values\n",
    "n_counts = sparse_gpu_array.sum(axis=1)\n",
    "percent_mito = (sparse_gpu_array[:,mito_genes].sum(axis=1) / n_counts).ravel()\n",
    "\n",
    "n_counts = cp.array(n_counts).ravel()\n",
    "percent_mito = cp.array(percent_mito).ravel()"
   ]
  },
  {
   "cell_type": "code",
   "execution_count": 15,
   "metadata": {},
   "outputs": [],
   "source": [
    "del sparse_gpu_array"
   ]
  },
  {
   "cell_type": "markdown",
   "metadata": {},
   "source": [
    "And perform regression:"
   ]
  },
  {
   "cell_type": "code",
   "execution_count": 16,
   "metadata": {},
   "outputs": [
    {
     "name": "stdout",
     "output_type": "stream",
     "text": [
      "CPU times: user 152 ms, sys: 76.5 ms, total: 229 ms\n",
      "Wall time: 2.4 s\n"
     ]
    },
    {
     "data": {
      "text/html": [
       "<table>\n",
       "    <tr>\n",
       "        <td>\n",
       "            <table style=\"border-collapse: collapse;\">\n",
       "                <thead>\n",
       "                    <tr>\n",
       "                        <td> </td>\n",
       "                        <th> Array </th>\n",
       "                        <th> Chunk </th>\n",
       "                    </tr>\n",
       "                </thead>\n",
       "                <tbody>\n",
       "                    \n",
       "                    <tr>\n",
       "                        <th> Bytes </th>\n",
       "                        <td> 1.55 GiB </td>\n",
       "                        <td> 792.08 MiB </td>\n",
       "                    </tr>\n",
       "                    \n",
       "                    <tr>\n",
       "                        <th> Shape </th>\n",
       "                        <td> (4000, 103819) </td>\n",
       "                        <td> (2000, 103819) </td>\n",
       "                    </tr>\n",
       "                    <tr>\n",
       "                        <th> Dask graph </th>\n",
       "                        <td colspan=\"2\"> 2 chunks in 1 graph layer </td>\n",
       "                    </tr>\n",
       "                    <tr>\n",
       "                        <th> Data type </th>\n",
       "                        <td colspan=\"2\"> float32 cupy.ndarray </td>\n",
       "                    </tr>\n",
       "                </tbody>\n",
       "            </table>\n",
       "        </td>\n",
       "        <td>\n",
       "        <svg width=\"170\" height=\"82\" style=\"stroke:rgb(0,0,0);stroke-width:1\" >\n",
       "\n",
       "  <!-- Horizontal lines -->\n",
       "  <line x1=\"0\" y1=\"0\" x2=\"120\" y2=\"0\" style=\"stroke-width:2\" />\n",
       "  <line x1=\"0\" y1=\"16\" x2=\"120\" y2=\"16\" />\n",
       "  <line x1=\"0\" y1=\"32\" x2=\"120\" y2=\"32\" style=\"stroke-width:2\" />\n",
       "\n",
       "  <!-- Vertical lines -->\n",
       "  <line x1=\"0\" y1=\"0\" x2=\"0\" y2=\"32\" style=\"stroke-width:2\" />\n",
       "  <line x1=\"120\" y1=\"0\" x2=\"120\" y2=\"32\" style=\"stroke-width:2\" />\n",
       "\n",
       "  <!-- Colored Rectangle -->\n",
       "  <polygon points=\"0.0,0.0 120.0,0.0 120.0,32.90485382785964 0.0,32.90485382785964\" style=\"fill:#ECB172A0;stroke-width:0\"/>\n",
       "\n",
       "  <!-- Text -->\n",
       "  <text x=\"60.000000\" y=\"52.904854\" font-size=\"1.0rem\" font-weight=\"100\" text-anchor=\"middle\" >103819</text>\n",
       "  <text x=\"140.000000\" y=\"16.452427\" font-size=\"1.0rem\" font-weight=\"100\" text-anchor=\"middle\" transform=\"rotate(-90,140.000000,16.452427)\">4000</text>\n",
       "</svg>\n",
       "        </td>\n",
       "    </tr>\n",
       "</table>"
      ],
      "text/plain": [
       "dask.array<rechunk-merge, shape=(4000, 103819), dtype=float32, chunksize=(2000, 103819), chunktype=cupy.ndarray>"
      ]
     },
     "execution_count": 16,
     "metadata": {},
     "output_type": "execute_result"
    }
   ],
   "source": [
    "%%time\n",
    "n_rows = dask_sparse_arr.shape[0]\n",
    "n_cols = dask_sparse_arr.shape[1]\n",
    "cols_per_worker = int(n_cols / n_workers)\n",
    "dask_sparse_arr = dask_sparse_arr.map_blocks(lambda x: x.todense(), dtype=\"float32\", meta=cp.array(cp.zeros((0,)))).T\n",
    "dask_sparse_arr = dask_sparse_arr.rechunk((cols_per_worker, n_rows)).persist()\n",
    "dask_sparse_arr.compute_chunk_sizes()"
   ]
  },
  {
   "cell_type": "code",
   "execution_count": 17,
   "metadata": {},
   "outputs": [
    {
     "name": "stdout",
     "output_type": "stream",
     "text": [
      "CPU times: user 159 ms, sys: 30.9 ms, total: 190 ms\n",
      "Wall time: 2.15 s\n"
     ]
    },
    {
     "data": {
      "text/html": [
       "<table>\n",
       "    <tr>\n",
       "        <td>\n",
       "            <table style=\"border-collapse: collapse;\">\n",
       "                <thead>\n",
       "                    <tr>\n",
       "                        <td> </td>\n",
       "                        <th> Array </th>\n",
       "                        <th> Chunk </th>\n",
       "                    </tr>\n",
       "                </thead>\n",
       "                <tbody>\n",
       "                    \n",
       "                    <tr>\n",
       "                        <th> Bytes </th>\n",
       "                        <td> 1.55 GiB </td>\n",
       "                        <td> 0.95 GiB </td>\n",
       "                    </tr>\n",
       "                    \n",
       "                    <tr>\n",
       "                        <th> Shape </th>\n",
       "                        <td> (103819, 4000) </td>\n",
       "                        <td> (63618, 4000) </td>\n",
       "                    </tr>\n",
       "                    <tr>\n",
       "                        <th> Dask graph </th>\n",
       "                        <td colspan=\"2\"> 2 chunks in 1 graph layer </td>\n",
       "                    </tr>\n",
       "                    <tr>\n",
       "                        <th> Data type </th>\n",
       "                        <td colspan=\"2\"> float32 cupy.ndarray </td>\n",
       "                    </tr>\n",
       "                </tbody>\n",
       "            </table>\n",
       "        </td>\n",
       "        <td>\n",
       "        <svg width=\"82\" height=\"170\" style=\"stroke:rgb(0,0,0);stroke-width:1\" >\n",
       "\n",
       "  <!-- Horizontal lines -->\n",
       "  <line x1=\"0\" y1=\"0\" x2=\"32\" y2=\"0\" style=\"stroke-width:2\" />\n",
       "  <line x1=\"0\" y1=\"73\" x2=\"32\" y2=\"73\" />\n",
       "  <line x1=\"0\" y1=\"120\" x2=\"32\" y2=\"120\" style=\"stroke-width:2\" />\n",
       "\n",
       "  <!-- Vertical lines -->\n",
       "  <line x1=\"0\" y1=\"0\" x2=\"0\" y2=\"120\" style=\"stroke-width:2\" />\n",
       "  <line x1=\"32\" y1=\"0\" x2=\"32\" y2=\"120\" style=\"stroke-width:2\" />\n",
       "\n",
       "  <!-- Colored Rectangle -->\n",
       "  <polygon points=\"0.0,0.0 32.90485382785964,0.0 32.90485382785964,120.0 0.0,120.0\" style=\"fill:#ECB172A0;stroke-width:0\"/>\n",
       "\n",
       "  <!-- Text -->\n",
       "  <text x=\"16.452427\" y=\"140.000000\" font-size=\"1.0rem\" font-weight=\"100\" text-anchor=\"middle\" >4000</text>\n",
       "  <text x=\"52.904854\" y=\"60.000000\" font-size=\"1.0rem\" font-weight=\"100\" text-anchor=\"middle\" transform=\"rotate(-90,52.904854,60.000000)\">103819</text>\n",
       "</svg>\n",
       "        </td>\n",
       "    </tr>\n",
       "</table>"
      ],
      "text/plain": [
       "dask.array<rechunk-merge, shape=(103819, 4000), dtype=float32, chunksize=(63618, 4000), chunktype=cupy.ndarray>"
      ]
     },
     "execution_count": 17,
     "metadata": {},
     "output_type": "execute_result"
    }
   ],
   "source": [
    "%%time\n",
    "import rapids_scanpy_funcs\n",
    "import math\n",
    "dask_sparse_arr = dask_sparse_arr.map_blocks(lambda x: rapids_scanpy_funcs.regress_out(x.T, n_counts, percent_mito).T, dtype=\"float32\", meta=cp.array(cp.zeros(0,))).T\n",
    "dask_sparse_arr = dask_sparse_arr.rechunk((math.ceil(n_rows/n_workers), n_cols)).persist()\n",
    "dask_sparse_arr.compute_chunk_sizes()"
   ]
  },
  {
   "cell_type": "markdown",
   "metadata": {},
   "source": [
    "### Scale"
   ]
  },
  {
   "cell_type": "markdown",
   "metadata": {},
   "source": [
    "Finally, we scale the count matrix to obtain a z-score and apply a cutoff value of 10 standard deviations, obtaining the preprocessed count matrix."
   ]
  },
  {
   "cell_type": "code",
   "execution_count": 18,
   "metadata": {},
   "outputs": [
    {
     "name": "stdout",
     "output_type": "stream",
     "text": [
      "CPU times: user 82.2 ms, sys: 4.49 ms, total: 86.6 ms\n",
      "Wall time: 555 ms\n"
     ]
    }
   ],
   "source": [
    "%%time\n",
    "mean = dask_sparse_arr.mean(axis=0)\n",
    "dask_sparse_arr -= mean\n",
    "stddev = cp.sqrt(dask_sparse_arr.var(axis=0).compute())\n",
    "dask_sparse_arr /= stddev\n",
    "dask_sparse_arr = dask.array.clip(dask_sparse_arr, -10, 10).persist()\n",
    "del mean, stddev"
   ]
  },
  {
   "cell_type": "code",
   "execution_count": 19,
   "metadata": {},
   "outputs": [
    {
     "name": "stdout",
     "output_type": "stream",
     "text": [
      "Total data load and preprocessing time: 91.3259859085083\n"
     ]
    }
   ],
   "source": [
    "data_load_preprocess_time = time.time()\n",
    "print(\"Total data load and preprocessing time: %s\" % (data_load_preprocess_time-data_load_preprocess_start))"
   ]
  },
  {
   "cell_type": "markdown",
   "metadata": {},
   "source": [
    "## Cluster & Visualize"
   ]
  },
  {
   "cell_type": "markdown",
   "metadata": {},
   "source": [
    "### Reduce"
   ]
  },
  {
   "cell_type": "markdown",
   "metadata": {},
   "source": [
    "We use PCA to reduce the dimensionality of the matrix to its top 50 principal components."
   ]
  },
  {
   "cell_type": "code",
   "execution_count": 22,
   "metadata": {},
   "outputs": [
    {
     "name": "stderr",
     "output_type": "stream",
     "text": [
      "2025-04-05 06:11:48,294 - distributed.worker - ERROR - Compute Failed\n",
      "Key:       ('from-value-transform_func-concatenate-c93a56128dd4a47d79fa742808c75da0', 0, 0)\n",
      "State:     executing\n",
      "Task:  <Task ('from-value-transform_func-concatenate-c93a56128dd4a47d79fa742808c75da0', 0, 0) _execute_subgraph(...)>\n",
      "Exception: 'ValueError(\"Must specify dtype when data is passed as a <class \\'tuple\\'>\")'\n",
      "Traceback: '  File \"/opt/conda/lib/python3.12/site-packages/cuml/dask/common/base.py\", line 484, in _transform_func\\n    return model.transform(data, **kwargs)\\n           ^^^^^^^^^^^^^^^^^^^^^^^^^^^^^^^\\n  File \"/opt/conda/lib/python3.12/site-packages/cuml/internals/api_decorators.py\", line 193, in wrapper\\n    ret = func(*args, **kwargs)\\n          ^^^^^^^^^^^^^^^^^^^^^\\n  File \"/opt/conda/lib/python3.12/site-packages/cuml/internals/api_decorators.py\", line 416, in dispatch\\n    return self.dispatch_func(func_name, gpu_func, *args, **kwargs)\\n           ^^^^^^^^^^^^^^^^^^^^^^^^^^^^^^^^^^^^^^^^^^^^^^^^^^^^^^^^\\n  File \"/opt/conda/lib/python3.12/site-packages/cuml/internals/api_decorators.py\", line 195, in wrapper\\n    return func(*args, **kwargs)\\n           ^^^^^^^^^^^^^^^^^^^^^\\n  File \"base.pyx\", line 764, in cuml.internals.base.UniversalBase.dispatch_func\\n  File \"pca.pyx\", line 695, in cuml.decomposition.pca.PCA.transform\\n  File \"/opt/conda/lib/python3.12/site-packages/nvtx/nvtx.py\", line 122, in inner\\n    result = func(*args, **kwargs)\\n             ^^^^^^^^^^^^^^^^^^^^^\\n  File \"/opt/conda/lib/python3.12/site-packages/cuml/internals/input_utils.py\", line 412, in input_to_cuml_array\\n    arr = CumlArray.from_input(\\n          ^^^^^^^^^^^^^^^^^^^^^\\n  File \"/opt/conda/lib/python3.12/site-packages/cuml/internals/memory_utils.py\", line 87, in cupy_rmm_wrapper\\n    return func(*args, **kwargs)\\n           ^^^^^^^^^^^^^^^^^^^^^\\n  File \"/opt/conda/lib/python3.12/site-packages/nvtx/nvtx.py\", line 122, in inner\\n    result = func(*args, **kwargs)\\n             ^^^^^^^^^^^^^^^^^^^^^\\n  File \"/opt/conda/lib/python3.12/site-packages/cuml/internals/array.py\", line 1107, in from_input\\n    arr = cls(X, index=index, order=requested_order, validate=False)\\n          ^^^^^^^^^^^^^^^^^^^^^^^^^^^^^^^^^^^^^^^^^^^^^^^^^^^^^^^^^^\\n  File \"/opt/conda/lib/python3.12/site-packages/cuml/internals/memory_utils.py\", line 87, in cupy_rmm_wrapper\\n    return func(*args, **kwargs)\\n           ^^^^^^^^^^^^^^^^^^^^^\\n  File \"/opt/conda/lib/python3.12/site-packages/nvtx/nvtx.py\", line 122, in inner\\n    result = func(*args, **kwargs)\\n             ^^^^^^^^^^^^^^^^^^^^^\\n  File \"/opt/conda/lib/python3.12/site-packages/cuml/internals/array.py\", line 255, in __init__\\n    raise ValueError(\\n'\n",
      "\n",
      "2025-04-05 06:11:48,318 - distributed.worker - ERROR - Compute Failed\n",
      "Key:       ('concatenate-from-value-get_chunk_shape-transform_func-getitem-ecac2bbb4f9f66d8c34b174bc7d58bfe',)\n",
      "State:     executing\n",
      "Task:  <Task ('concatenate-from-value-get_chunk_shape-transform_func-getitem-ecac2bbb4f9f66d8c34b174bc7d58bfe',) _execute_subgraph(...)>\n",
      "Exception: 'ValueError(\"Must specify dtype when data is passed as a <class \\'tuple\\'>\")'\n",
      "Traceback: '  File \"/opt/conda/lib/python3.12/site-packages/cuml/dask/common/base.py\", line 484, in _transform_func\\n    return model.transform(data, **kwargs)\\n           ^^^^^^^^^^^^^^^^^^^^^^^^^^^^^^^\\n  File \"/opt/conda/lib/python3.12/site-packages/cuml/internals/api_decorators.py\", line 193, in wrapper\\n    ret = func(*args, **kwargs)\\n          ^^^^^^^^^^^^^^^^^^^^^\\n  File \"/opt/conda/lib/python3.12/site-packages/cuml/internals/api_decorators.py\", line 416, in dispatch\\n    return self.dispatch_func(func_name, gpu_func, *args, **kwargs)\\n           ^^^^^^^^^^^^^^^^^^^^^^^^^^^^^^^^^^^^^^^^^^^^^^^^^^^^^^^^\\n  File \"/opt/conda/lib/python3.12/site-packages/cuml/internals/api_decorators.py\", line 195, in wrapper\\n    return func(*args, **kwargs)\\n           ^^^^^^^^^^^^^^^^^^^^^\\n  File \"base.pyx\", line 764, in cuml.internals.base.UniversalBase.dispatch_func\\n  File \"pca.pyx\", line 695, in cuml.decomposition.pca.PCA.transform\\n  File \"/opt/conda/lib/python3.12/site-packages/nvtx/nvtx.py\", line 122, in inner\\n    result = func(*args, **kwargs)\\n             ^^^^^^^^^^^^^^^^^^^^^\\n  File \"/opt/conda/lib/python3.12/site-packages/cuml/internals/input_utils.py\", line 412, in input_to_cuml_array\\n    arr = CumlArray.from_input(\\n          ^^^^^^^^^^^^^^^^^^^^^\\n  File \"/opt/conda/lib/python3.12/site-packages/cuml/internals/memory_utils.py\", line 87, in cupy_rmm_wrapper\\n    return func(*args, **kwargs)\\n           ^^^^^^^^^^^^^^^^^^^^^\\n  File \"/opt/conda/lib/python3.12/site-packages/nvtx/nvtx.py\", line 122, in inner\\n    result = func(*args, **kwargs)\\n             ^^^^^^^^^^^^^^^^^^^^^\\n  File \"/opt/conda/lib/python3.12/site-packages/cuml/internals/array.py\", line 1107, in from_input\\n    arr = cls(X, index=index, order=requested_order, validate=False)\\n          ^^^^^^^^^^^^^^^^^^^^^^^^^^^^^^^^^^^^^^^^^^^^^^^^^^^^^^^^^^\\n  File \"/opt/conda/lib/python3.12/site-packages/cuml/internals/memory_utils.py\", line 87, in cupy_rmm_wrapper\\n    return func(*args, **kwargs)\\n           ^^^^^^^^^^^^^^^^^^^^^\\n  File \"/opt/conda/lib/python3.12/site-packages/nvtx/nvtx.py\", line 122, in inner\\n    result = func(*args, **kwargs)\\n             ^^^^^^^^^^^^^^^^^^^^^\\n  File \"/opt/conda/lib/python3.12/site-packages/cuml/internals/array.py\", line 255, in __init__\\n    raise ValueError(\\n'\n",
      "\n"
     ]
    },
    {
     "ename": "ValueError",
     "evalue": "Must specify dtype when data is passed as a <class 'tuple'>",
     "output_type": "error",
     "traceback": [
      "\u001b[31m---------------------------------------------------------------------------\u001b[39m",
      "\u001b[31mValueError\u001b[39m                                Traceback (most recent call last)",
      "\u001b[36mFile \u001b[39m\u001b[32m<timed exec>:3\u001b[39m\n",
      "\u001b[36mFile \u001b[39m\u001b[32m/opt/conda/lib/python3.12/site-packages/dask/array/core.py:1516\u001b[39m, in \u001b[36mArray.compute_chunk_sizes\u001b[39m\u001b[34m(self)\u001b[39m\n\u001b[32m   1511\u001b[39m     c.append(\u001b[38;5;28mtuple\u001b[39m(chunk_shapes[s]))\n\u001b[32m   1513\u001b[39m \u001b[38;5;66;03m# `map_blocks` assigns numpy dtypes\u001b[39;00m\n\u001b[32m   1514\u001b[39m \u001b[38;5;66;03m# cast chunk dimensions back to python int before returning\u001b[39;00m\n\u001b[32m   1515\u001b[39m x._chunks = \u001b[38;5;28mtuple\u001b[39m(\n\u001b[32m-> \u001b[39m\u001b[32m1516\u001b[39m     \u001b[38;5;28mtuple\u001b[39m(\u001b[38;5;28mint\u001b[39m(chunk) \u001b[38;5;28;01mfor\u001b[39;00m chunk \u001b[38;5;129;01min\u001b[39;00m chunks) \u001b[38;5;28;01mfor\u001b[39;00m chunks \u001b[38;5;129;01min\u001b[39;00m \u001b[43mcompute\u001b[49m\u001b[43m(\u001b[49m\u001b[38;5;28;43mtuple\u001b[39;49m\u001b[43m(\u001b[49m\u001b[43mc\u001b[49m\u001b[43m)\u001b[49m\u001b[43m)\u001b[49m[\u001b[32m0\u001b[39m]\n\u001b[32m   1517\u001b[39m )\n\u001b[32m   1518\u001b[39m \u001b[38;5;28;01mreturn\u001b[39;00m x\n",
      "\u001b[36mFile \u001b[39m\u001b[32m/opt/conda/lib/python3.12/site-packages/dask/base.py:660\u001b[39m, in \u001b[36mcompute\u001b[39m\u001b[34m(traverse, optimize_graph, scheduler, get, *args, **kwargs)\u001b[39m\n\u001b[32m    657\u001b[39m     postcomputes.append(x.__dask_postcompute__())\n\u001b[32m    659\u001b[39m \u001b[38;5;28;01mwith\u001b[39;00m shorten_traceback():\n\u001b[32m--> \u001b[39m\u001b[32m660\u001b[39m     results = \u001b[43mschedule\u001b[49m\u001b[43m(\u001b[49m\u001b[43mdsk\u001b[49m\u001b[43m,\u001b[49m\u001b[43m \u001b[49m\u001b[43mkeys\u001b[49m\u001b[43m,\u001b[49m\u001b[43m \u001b[49m\u001b[43m*\u001b[49m\u001b[43m*\u001b[49m\u001b[43mkwargs\u001b[49m\u001b[43m)\u001b[49m\n\u001b[32m    662\u001b[39m \u001b[38;5;28;01mreturn\u001b[39;00m repack([f(r, *a) \u001b[38;5;28;01mfor\u001b[39;00m r, (f, a) \u001b[38;5;129;01min\u001b[39;00m \u001b[38;5;28mzip\u001b[39m(results, postcomputes)])\n",
      "\u001b[36mFile \u001b[39m\u001b[32m/opt/conda/lib/python3.12/site-packages/cuml/dask/common/base.py:484\u001b[39m, in \u001b[36m_transform_func\u001b[39m\u001b[34m()\u001b[39m\n\u001b[32m    483\u001b[39m \u001b[38;5;28;01mdef\u001b[39;00m\u001b[38;5;250m \u001b[39m\u001b[34m_transform_func\u001b[39m(model, data, **kwargs):\n\u001b[32m--> \u001b[39m\u001b[32m484\u001b[39m     \u001b[38;5;28;01mreturn\u001b[39;00m model.transform(data, **kwargs)\n",
      "\u001b[36mFile \u001b[39m\u001b[32m/opt/conda/lib/python3.12/site-packages/cuml/internals/api_decorators.py:193\u001b[39m, in \u001b[36mwrapper\u001b[39m\u001b[34m()\u001b[39m\n\u001b[32m    190\u001b[39m     set_api_output_dtype(output_dtype)\n\u001b[32m    192\u001b[39m \u001b[38;5;28;01mif\u001b[39;00m process_return:\n\u001b[32m--> \u001b[39m\u001b[32m193\u001b[39m     ret = func(*args, **kwargs)\n\u001b[32m    194\u001b[39m \u001b[38;5;28;01melse\u001b[39;00m:\n\u001b[32m    195\u001b[39m     \u001b[38;5;28;01mreturn\u001b[39;00m func(*args, **kwargs)\n",
      "\u001b[36mFile \u001b[39m\u001b[32m/opt/conda/lib/python3.12/site-packages/cuml/internals/api_decorators.py:416\u001b[39m, in \u001b[36mdispatch\u001b[39m\u001b[34m()\u001b[39m\n\u001b[32m    414\u001b[39m \u001b[38;5;28;01mif\u001b[39;00m \u001b[38;5;28mhasattr\u001b[39m(\u001b[38;5;28mself\u001b[39m, \u001b[33m\"\u001b[39m\u001b[33mdispatch_func\u001b[39m\u001b[33m\"\u001b[39m):\n\u001b[32m    415\u001b[39m     func_name = gpu_func.\u001b[34m__name__\u001b[39m\n\u001b[32m--> \u001b[39m\u001b[32m416\u001b[39m     \u001b[38;5;28;01mreturn\u001b[39;00m \u001b[38;5;28mself\u001b[39m.dispatch_func(func_name, gpu_func, *args, **kwargs)\n\u001b[32m    417\u001b[39m \u001b[38;5;28;01melse\u001b[39;00m:\n\u001b[32m    418\u001b[39m     \u001b[38;5;28;01mreturn\u001b[39;00m gpu_func(\u001b[38;5;28mself\u001b[39m, *args, **kwargs)\n",
      "\u001b[36mFile \u001b[39m\u001b[32m/opt/conda/lib/python3.12/site-packages/cuml/internals/api_decorators.py:195\u001b[39m, in \u001b[36mwrapper\u001b[39m\u001b[34m()\u001b[39m\n\u001b[32m    193\u001b[39m         ret = func(*args, **kwargs)\n\u001b[32m    194\u001b[39m     \u001b[38;5;28;01melse\u001b[39;00m:\n\u001b[32m--> \u001b[39m\u001b[32m195\u001b[39m         \u001b[38;5;28;01mreturn\u001b[39;00m func(*args, **kwargs)\n\u001b[32m    197\u001b[39m \u001b[38;5;28;01mreturn\u001b[39;00m cm.process_return(ret)\n",
      "\u001b[36mFile \u001b[39m\u001b[32mbase.pyx:764\u001b[39m, in \u001b[36mcuml.internals.base.UniversalBase.dispatch_func\u001b[39m\u001b[34m()\u001b[39m\n",
      "\u001b[36mFile \u001b[39m\u001b[32mpca.pyx:695\u001b[39m, in \u001b[36mcuml.decomposition.pca.PCA.transform\u001b[39m\u001b[34m()\u001b[39m\n",
      "\u001b[36mFile \u001b[39m\u001b[32m/opt/conda/lib/python3.12/site-packages/nvtx/nvtx.py:122\u001b[39m, in \u001b[36minner\u001b[39m\u001b[34m()\u001b[39m\n\u001b[32m    119\u001b[39m \u001b[38;5;129m@wraps\u001b[39m(func)\n\u001b[32m    120\u001b[39m \u001b[38;5;28;01mdef\u001b[39;00m\u001b[38;5;250m \u001b[39m\u001b[34minner\u001b[39m(*args, **kwargs):\n\u001b[32m    121\u001b[39m     libnvtx_push_range(\u001b[38;5;28mself\u001b[39m.attributes, \u001b[38;5;28mself\u001b[39m.domain.handle)\n\u001b[32m--> \u001b[39m\u001b[32m122\u001b[39m     result = func(*args, **kwargs)\n\u001b[32m    123\u001b[39m     libnvtx_pop_range(\u001b[38;5;28mself\u001b[39m.domain.handle)\n\u001b[32m    124\u001b[39m     \u001b[38;5;28;01mreturn\u001b[39;00m result\n",
      "\u001b[36mFile \u001b[39m\u001b[32m/opt/conda/lib/python3.12/site-packages/cuml/internals/input_utils.py:412\u001b[39m, in \u001b[36minput_to_cuml_array\u001b[39m\u001b[34m()\u001b[39m\n\u001b[32m    324\u001b[39m \u001b[38;5;129m@nvtx_annotate\u001b[39m(\n\u001b[32m    325\u001b[39m     message=\u001b[33m\"\u001b[39m\u001b[33mcommon.input_utils.input_to_cuml_array\u001b[39m\u001b[33m\"\u001b[39m,\n\u001b[32m    326\u001b[39m     category=\u001b[33m\"\u001b[39m\u001b[33mutils\u001b[39m\u001b[33m\"\u001b[39m,\n\u001b[32m   (...)\u001b[39m\u001b[32m    341\u001b[39m     force_contiguous=\u001b[38;5;28;01mTrue\u001b[39;00m,\n\u001b[32m    342\u001b[39m ):\n\u001b[32m    343\u001b[39m \u001b[38;5;250m    \u001b[39m\u001b[33;03m\"\"\"\u001b[39;00m\n\u001b[32m    344\u001b[39m \u001b[33;03m    Convert input X to CumlArray.\u001b[39;00m\n\u001b[32m    345\u001b[39m \n\u001b[32m   (...)\u001b[39m\u001b[32m    410\u001b[39m \n\u001b[32m    411\u001b[39m \u001b[33;03m    \"\"\"\u001b[39;00m\n\u001b[32m--> \u001b[39m\u001b[32m412\u001b[39m     arr = CumlArray.from_input(\n\u001b[32m    413\u001b[39m         X,\n\u001b[32m    414\u001b[39m         order=order,\n\u001b[32m    415\u001b[39m         deepcopy=deepcopy,\n\u001b[32m    416\u001b[39m         check_dtype=check_dtype,\n\u001b[32m    417\u001b[39m         convert_to_dtype=convert_to_dtype,\n\u001b[32m    418\u001b[39m         check_mem_type=check_mem_type,\n\u001b[32m    419\u001b[39m         convert_to_mem_type=convert_to_mem_type,\n\u001b[32m    420\u001b[39m         safe_dtype_conversion=safe_dtype_conversion,\n\u001b[32m    421\u001b[39m         check_cols=check_cols,\n\u001b[32m    422\u001b[39m         check_rows=check_rows,\n\u001b[32m    423\u001b[39m         fail_on_order=fail_on_order,\n\u001b[32m    424\u001b[39m         force_contiguous=force_contiguous,\n\u001b[32m    425\u001b[39m     )\n\u001b[32m    426\u001b[39m     \u001b[38;5;28;01mtry\u001b[39;00m:\n\u001b[32m    427\u001b[39m         shape = arr.__cuda_array_interface__[\u001b[33m\"\u001b[39m\u001b[33mshape\u001b[39m\u001b[33m\"\u001b[39m]\n",
      "\u001b[36mFile \u001b[39m\u001b[32m/opt/conda/lib/python3.12/site-packages/cuml/internals/memory_utils.py:87\u001b[39m, in \u001b[36mcupy_rmm_wrapper\u001b[39m\u001b[34m()\u001b[39m\n\u001b[32m     85\u001b[39m \u001b[38;5;28;01mif\u001b[39;00m GPU_ENABLED:\n\u001b[32m     86\u001b[39m     \u001b[38;5;28;01mwith\u001b[39;00m cupy_using_allocator(rmm_cupy_allocator):\n\u001b[32m---> \u001b[39m\u001b[32m87\u001b[39m         \u001b[38;5;28;01mreturn\u001b[39;00m func(*args, **kwargs)\n\u001b[32m     88\u001b[39m \u001b[38;5;28;01mreturn\u001b[39;00m func(*args, **kwargs)\n",
      "\u001b[36mFile \u001b[39m\u001b[32m/opt/conda/lib/python3.12/site-packages/nvtx/nvtx.py:122\u001b[39m, in \u001b[36minner\u001b[39m\u001b[34m()\u001b[39m\n\u001b[32m    119\u001b[39m \u001b[38;5;129m@wraps\u001b[39m(func)\n\u001b[32m    120\u001b[39m \u001b[38;5;28;01mdef\u001b[39;00m\u001b[38;5;250m \u001b[39m\u001b[34minner\u001b[39m(*args, **kwargs):\n\u001b[32m    121\u001b[39m     libnvtx_push_range(\u001b[38;5;28mself\u001b[39m.attributes, \u001b[38;5;28mself\u001b[39m.domain.handle)\n\u001b[32m--> \u001b[39m\u001b[32m122\u001b[39m     result = func(*args, **kwargs)\n\u001b[32m    123\u001b[39m     libnvtx_pop_range(\u001b[38;5;28mself\u001b[39m.domain.handle)\n\u001b[32m    124\u001b[39m     \u001b[38;5;28;01mreturn\u001b[39;00m result\n",
      "\u001b[36mFile \u001b[39m\u001b[32m/opt/conda/lib/python3.12/site-packages/cuml/internals/array.py:1107\u001b[39m, in \u001b[36mfrom_input\u001b[39m\u001b[34m()\u001b[39m\n\u001b[32m   1104\u001b[39m     deepcopy = \u001b[38;5;28;01mFalse\u001b[39;00m\n\u001b[32m   1106\u001b[39m requested_order = (order, \u001b[38;5;28;01mNone\u001b[39;00m)[fail_on_order]\n\u001b[32m-> \u001b[39m\u001b[32m1107\u001b[39m arr = \u001b[38;5;28mcls\u001b[39m(X, index=index, order=requested_order, validate=\u001b[38;5;28;01mFalse\u001b[39;00m)\n\u001b[32m   1108\u001b[39m \u001b[38;5;28;01mif\u001b[39;00m deepcopy:\n\u001b[32m   1109\u001b[39m     arr = copy.deepcopy(arr)\n",
      "\u001b[36mFile \u001b[39m\u001b[32m/opt/conda/lib/python3.12/site-packages/cuml/internals/memory_utils.py:87\u001b[39m, in \u001b[36mcupy_rmm_wrapper\u001b[39m\u001b[34m()\u001b[39m\n\u001b[32m     85\u001b[39m \u001b[38;5;28;01mif\u001b[39;00m GPU_ENABLED:\n\u001b[32m     86\u001b[39m     \u001b[38;5;28;01mwith\u001b[39;00m cupy_using_allocator(rmm_cupy_allocator):\n\u001b[32m---> \u001b[39m\u001b[32m87\u001b[39m         \u001b[38;5;28;01mreturn\u001b[39;00m func(*args, **kwargs)\n\u001b[32m     88\u001b[39m \u001b[38;5;28;01mreturn\u001b[39;00m func(*args, **kwargs)\n",
      "\u001b[36mFile \u001b[39m\u001b[32m/opt/conda/lib/python3.12/site-packages/nvtx/nvtx.py:122\u001b[39m, in \u001b[36minner\u001b[39m\u001b[34m()\u001b[39m\n\u001b[32m    119\u001b[39m \u001b[38;5;129m@wraps\u001b[39m(func)\n\u001b[32m    120\u001b[39m \u001b[38;5;28;01mdef\u001b[39;00m\u001b[38;5;250m \u001b[39m\u001b[34minner\u001b[39m(*args, **kwargs):\n\u001b[32m    121\u001b[39m     libnvtx_push_range(\u001b[38;5;28mself\u001b[39m.attributes, \u001b[38;5;28mself\u001b[39m.domain.handle)\n\u001b[32m--> \u001b[39m\u001b[32m122\u001b[39m     result = func(*args, **kwargs)\n\u001b[32m    123\u001b[39m     libnvtx_pop_range(\u001b[38;5;28mself\u001b[39m.domain.handle)\n\u001b[32m    124\u001b[39m     \u001b[38;5;28;01mreturn\u001b[39;00m result\n",
      "\u001b[36mFile \u001b[39m\u001b[32m/opt/conda/lib/python3.12/site-packages/cuml/internals/array.py:255\u001b[39m, in \u001b[36m__init__\u001b[39m\u001b[34m()\u001b[39m\n\u001b[32m    253\u001b[39m         dtype = data.dtype\n\u001b[32m    254\u001b[39m     \u001b[38;5;28;01melse\u001b[39;00m:\n\u001b[32m--> \u001b[39m\u001b[32m255\u001b[39m         \u001b[38;5;28;01mraise\u001b[39;00m \u001b[38;5;167;01mValueError\u001b[39;00m(\n\u001b[32m    256\u001b[39m             \u001b[33m\"\u001b[39m\u001b[33mMust specify dtype when data is passed as a\u001b[39m\u001b[33m\"\u001b[39m\n\u001b[32m    257\u001b[39m             \u001b[33m\"\u001b[39m\u001b[33m \u001b[39m\u001b[38;5;132;01m{}\u001b[39;00m\u001b[33m\"\u001b[39m.format(\u001b[38;5;28mtype\u001b[39m(data))\n\u001b[32m    258\u001b[39m         )\n\u001b[32m    259\u001b[39m \u001b[38;5;28;01mif\u001b[39;00m mem_type \u001b[38;5;129;01mis\u001b[39;00m \u001b[38;5;28;01mNone\u001b[39;00m:\n\u001b[32m    260\u001b[39m     \u001b[38;5;28;01mif\u001b[39;00m GlobalSettings().memory_type \u001b[38;5;129;01min\u001b[39;00m (\n\u001b[32m    261\u001b[39m         \u001b[38;5;28;01mNone\u001b[39;00m,\n\u001b[32m    262\u001b[39m         MemoryType.mirror,\n\u001b[32m    263\u001b[39m     ):\n",
      "\u001b[31mValueError\u001b[39m: Must specify dtype when data is passed as a <class 'tuple'>"
     ]
    }
   ],
   "source": [
    "%%time\n",
    "from cuml.dask.decomposition import PCA\n",
    "pca_data = PCA(n_components=50).fit_transform(dask_sparse_arr)\n",
    "pca_data.compute_chunk_sizes()"
   ]
  },
  {
   "cell_type": "markdown",
   "metadata": {},
   "source": [
    "We store the preprocessed count matrix as an AnnData object, which is currently in host memory. We also add the expression levels of the marker genes as observations to the annData object."
   ]
  },
  {
   "cell_type": "code",
   "execution_count": 21,
   "metadata": {},
   "outputs": [
    {
     "name": "stderr",
     "output_type": "stream",
     "text": [
      "2025-04-05 06:11:15,108 - distributed.worker - ERROR - Compute Failed\n",
      "Key:       ('from-value-transform_func-concatenate-89eb68108b5f82bc1a70ef92f7298ea6', 1, 0)\n",
      "State:     executing\n",
      "Task:  <Task ('from-value-transform_func-concatenate-89eb68108b5f82bc1a70ef92f7298ea6', 1, 0) _execute_subgraph(...)>\n",
      "Exception: 'ValueError(\"Must specify dtype when data is passed as a <class \\'tuple\\'>\")'\n",
      "Traceback: '  File \"/opt/conda/lib/python3.12/site-packages/cuml/dask/common/base.py\", line 484, in _transform_func\\n    return model.transform(data, **kwargs)\\n           ^^^^^^^^^^^^^^^^^^^^^^^^^^^^^^^\\n  File \"/opt/conda/lib/python3.12/site-packages/cuml/internals/api_decorators.py\", line 193, in wrapper\\n    ret = func(*args, **kwargs)\\n          ^^^^^^^^^^^^^^^^^^^^^\\n  File \"/opt/conda/lib/python3.12/site-packages/cuml/internals/api_decorators.py\", line 416, in dispatch\\n    return self.dispatch_func(func_name, gpu_func, *args, **kwargs)\\n           ^^^^^^^^^^^^^^^^^^^^^^^^^^^^^^^^^^^^^^^^^^^^^^^^^^^^^^^^\\n  File \"/opt/conda/lib/python3.12/site-packages/cuml/internals/api_decorators.py\", line 195, in wrapper\\n    return func(*args, **kwargs)\\n           ^^^^^^^^^^^^^^^^^^^^^\\n  File \"base.pyx\", line 764, in cuml.internals.base.UniversalBase.dispatch_func\\n  File \"pca.pyx\", line 695, in cuml.decomposition.pca.PCA.transform\\n  File \"/opt/conda/lib/python3.12/site-packages/nvtx/nvtx.py\", line 122, in inner\\n    result = func(*args, **kwargs)\\n             ^^^^^^^^^^^^^^^^^^^^^\\n  File \"/opt/conda/lib/python3.12/site-packages/cuml/internals/input_utils.py\", line 412, in input_to_cuml_array\\n    arr = CumlArray.from_input(\\n          ^^^^^^^^^^^^^^^^^^^^^\\n  File \"/opt/conda/lib/python3.12/site-packages/cuml/internals/memory_utils.py\", line 87, in cupy_rmm_wrapper\\n    return func(*args, **kwargs)\\n           ^^^^^^^^^^^^^^^^^^^^^\\n  File \"/opt/conda/lib/python3.12/site-packages/nvtx/nvtx.py\", line 122, in inner\\n    result = func(*args, **kwargs)\\n             ^^^^^^^^^^^^^^^^^^^^^\\n  File \"/opt/conda/lib/python3.12/site-packages/cuml/internals/array.py\", line 1107, in from_input\\n    arr = cls(X, index=index, order=requested_order, validate=False)\\n          ^^^^^^^^^^^^^^^^^^^^^^^^^^^^^^^^^^^^^^^^^^^^^^^^^^^^^^^^^^\\n  File \"/opt/conda/lib/python3.12/site-packages/cuml/internals/memory_utils.py\", line 87, in cupy_rmm_wrapper\\n    return func(*args, **kwargs)\\n           ^^^^^^^^^^^^^^^^^^^^^\\n  File \"/opt/conda/lib/python3.12/site-packages/nvtx/nvtx.py\", line 122, in inner\\n    result = func(*args, **kwargs)\\n             ^^^^^^^^^^^^^^^^^^^^^\\n  File \"/opt/conda/lib/python3.12/site-packages/cuml/internals/array.py\", line 255, in __init__\\n    raise ValueError(\\n'\n",
      "\n"
     ]
    },
    {
     "ename": "ValueError",
     "evalue": "Must specify dtype when data is passed as a <class 'tuple'>",
     "output_type": "error",
     "traceback": [
      "\u001b[31m---------------------------------------------------------------------------\u001b[39m",
      "\u001b[31mValueError\u001b[39m                                Traceback (most recent call last)",
      "\u001b[36mFile \u001b[39m\u001b[32m<timed exec>:1\u001b[39m\n",
      "\u001b[36mFile \u001b[39m\u001b[32m/opt/conda/lib/python3.12/site-packages/dask/base.py:372\u001b[39m, in \u001b[36mDaskMethodsMixin.compute\u001b[39m\u001b[34m(self, **kwargs)\u001b[39m\n\u001b[32m    348\u001b[39m \u001b[38;5;28;01mdef\u001b[39;00m\u001b[38;5;250m \u001b[39m\u001b[34mcompute\u001b[39m(\u001b[38;5;28mself\u001b[39m, **kwargs):\n\u001b[32m    349\u001b[39m \u001b[38;5;250m    \u001b[39m\u001b[33;03m\"\"\"Compute this dask collection\u001b[39;00m\n\u001b[32m    350\u001b[39m \n\u001b[32m    351\u001b[39m \u001b[33;03m    This turns a lazy Dask collection into its in-memory equivalent.\u001b[39;00m\n\u001b[32m   (...)\u001b[39m\u001b[32m    370\u001b[39m \u001b[33;03m    dask.compute\u001b[39;00m\n\u001b[32m    371\u001b[39m \u001b[33;03m    \"\"\"\u001b[39;00m\n\u001b[32m--> \u001b[39m\u001b[32m372\u001b[39m     (result,) = \u001b[43mcompute\u001b[49m\u001b[43m(\u001b[49m\u001b[38;5;28;43mself\u001b[39;49m\u001b[43m,\u001b[49m\u001b[43m \u001b[49m\u001b[43mtraverse\u001b[49m\u001b[43m=\u001b[49m\u001b[38;5;28;43;01mFalse\u001b[39;49;00m\u001b[43m,\u001b[49m\u001b[43m \u001b[49m\u001b[43m*\u001b[49m\u001b[43m*\u001b[49m\u001b[43mkwargs\u001b[49m\u001b[43m)\u001b[49m\n\u001b[32m    373\u001b[39m     \u001b[38;5;28;01mreturn\u001b[39;00m result\n",
      "\u001b[36mFile \u001b[39m\u001b[32m/opt/conda/lib/python3.12/site-packages/dask/base.py:660\u001b[39m, in \u001b[36mcompute\u001b[39m\u001b[34m(traverse, optimize_graph, scheduler, get, *args, **kwargs)\u001b[39m\n\u001b[32m    657\u001b[39m     postcomputes.append(x.__dask_postcompute__())\n\u001b[32m    659\u001b[39m \u001b[38;5;28;01mwith\u001b[39;00m shorten_traceback():\n\u001b[32m--> \u001b[39m\u001b[32m660\u001b[39m     results = \u001b[43mschedule\u001b[49m\u001b[43m(\u001b[49m\u001b[43mdsk\u001b[49m\u001b[43m,\u001b[49m\u001b[43m \u001b[49m\u001b[43mkeys\u001b[49m\u001b[43m,\u001b[49m\u001b[43m \u001b[49m\u001b[43m*\u001b[49m\u001b[43m*\u001b[49m\u001b[43mkwargs\u001b[49m\u001b[43m)\u001b[49m\n\u001b[32m    662\u001b[39m \u001b[38;5;28;01mreturn\u001b[39;00m repack([f(r, *a) \u001b[38;5;28;01mfor\u001b[39;00m r, (f, a) \u001b[38;5;129;01min\u001b[39;00m \u001b[38;5;28mzip\u001b[39m(results, postcomputes)])\n",
      "\u001b[36mFile \u001b[39m\u001b[32m/opt/conda/lib/python3.12/site-packages/cuml/dask/common/base.py:484\u001b[39m, in \u001b[36m_transform_func\u001b[39m\u001b[34m()\u001b[39m\n\u001b[32m    483\u001b[39m \u001b[38;5;28;01mdef\u001b[39;00m\u001b[38;5;250m \u001b[39m\u001b[34m_transform_func\u001b[39m(model, data, **kwargs):\n\u001b[32m--> \u001b[39m\u001b[32m484\u001b[39m     \u001b[38;5;28;01mreturn\u001b[39;00m model.transform(data, **kwargs)\n",
      "\u001b[36mFile \u001b[39m\u001b[32m/opt/conda/lib/python3.12/site-packages/cuml/internals/api_decorators.py:193\u001b[39m, in \u001b[36mwrapper\u001b[39m\u001b[34m()\u001b[39m\n\u001b[32m    190\u001b[39m     set_api_output_dtype(output_dtype)\n\u001b[32m    192\u001b[39m \u001b[38;5;28;01mif\u001b[39;00m process_return:\n\u001b[32m--> \u001b[39m\u001b[32m193\u001b[39m     ret = func(*args, **kwargs)\n\u001b[32m    194\u001b[39m \u001b[38;5;28;01melse\u001b[39;00m:\n\u001b[32m    195\u001b[39m     \u001b[38;5;28;01mreturn\u001b[39;00m func(*args, **kwargs)\n",
      "\u001b[36mFile \u001b[39m\u001b[32m/opt/conda/lib/python3.12/site-packages/cuml/internals/api_decorators.py:416\u001b[39m, in \u001b[36mdispatch\u001b[39m\u001b[34m()\u001b[39m\n\u001b[32m    414\u001b[39m \u001b[38;5;28;01mif\u001b[39;00m \u001b[38;5;28mhasattr\u001b[39m(\u001b[38;5;28mself\u001b[39m, \u001b[33m\"\u001b[39m\u001b[33mdispatch_func\u001b[39m\u001b[33m\"\u001b[39m):\n\u001b[32m    415\u001b[39m     func_name = gpu_func.\u001b[34m__name__\u001b[39m\n\u001b[32m--> \u001b[39m\u001b[32m416\u001b[39m     \u001b[38;5;28;01mreturn\u001b[39;00m \u001b[38;5;28mself\u001b[39m.dispatch_func(func_name, gpu_func, *args, **kwargs)\n\u001b[32m    417\u001b[39m \u001b[38;5;28;01melse\u001b[39;00m:\n\u001b[32m    418\u001b[39m     \u001b[38;5;28;01mreturn\u001b[39;00m gpu_func(\u001b[38;5;28mself\u001b[39m, *args, **kwargs)\n",
      "\u001b[36mFile \u001b[39m\u001b[32m/opt/conda/lib/python3.12/site-packages/cuml/internals/api_decorators.py:195\u001b[39m, in \u001b[36mwrapper\u001b[39m\u001b[34m()\u001b[39m\n\u001b[32m    193\u001b[39m         ret = func(*args, **kwargs)\n\u001b[32m    194\u001b[39m     \u001b[38;5;28;01melse\u001b[39;00m:\n\u001b[32m--> \u001b[39m\u001b[32m195\u001b[39m         \u001b[38;5;28;01mreturn\u001b[39;00m func(*args, **kwargs)\n\u001b[32m    197\u001b[39m \u001b[38;5;28;01mreturn\u001b[39;00m cm.process_return(ret)\n",
      "\u001b[36mFile \u001b[39m\u001b[32mbase.pyx:764\u001b[39m, in \u001b[36mcuml.internals.base.UniversalBase.dispatch_func\u001b[39m\u001b[34m()\u001b[39m\n",
      "\u001b[36mFile \u001b[39m\u001b[32mpca.pyx:695\u001b[39m, in \u001b[36mcuml.decomposition.pca.PCA.transform\u001b[39m\u001b[34m()\u001b[39m\n",
      "\u001b[36mFile \u001b[39m\u001b[32m/opt/conda/lib/python3.12/site-packages/nvtx/nvtx.py:122\u001b[39m, in \u001b[36minner\u001b[39m\u001b[34m()\u001b[39m\n\u001b[32m    119\u001b[39m \u001b[38;5;129m@wraps\u001b[39m(func)\n\u001b[32m    120\u001b[39m \u001b[38;5;28;01mdef\u001b[39;00m\u001b[38;5;250m \u001b[39m\u001b[34minner\u001b[39m(*args, **kwargs):\n\u001b[32m    121\u001b[39m     libnvtx_push_range(\u001b[38;5;28mself\u001b[39m.attributes, \u001b[38;5;28mself\u001b[39m.domain.handle)\n\u001b[32m--> \u001b[39m\u001b[32m122\u001b[39m     result = func(*args, **kwargs)\n\u001b[32m    123\u001b[39m     libnvtx_pop_range(\u001b[38;5;28mself\u001b[39m.domain.handle)\n\u001b[32m    124\u001b[39m     \u001b[38;5;28;01mreturn\u001b[39;00m result\n",
      "\u001b[36mFile \u001b[39m\u001b[32m/opt/conda/lib/python3.12/site-packages/cuml/internals/input_utils.py:412\u001b[39m, in \u001b[36minput_to_cuml_array\u001b[39m\u001b[34m()\u001b[39m\n\u001b[32m    324\u001b[39m \u001b[38;5;129m@nvtx_annotate\u001b[39m(\n\u001b[32m    325\u001b[39m     message=\u001b[33m\"\u001b[39m\u001b[33mcommon.input_utils.input_to_cuml_array\u001b[39m\u001b[33m\"\u001b[39m,\n\u001b[32m    326\u001b[39m     category=\u001b[33m\"\u001b[39m\u001b[33mutils\u001b[39m\u001b[33m\"\u001b[39m,\n\u001b[32m   (...)\u001b[39m\u001b[32m    341\u001b[39m     force_contiguous=\u001b[38;5;28;01mTrue\u001b[39;00m,\n\u001b[32m    342\u001b[39m ):\n\u001b[32m    343\u001b[39m \u001b[38;5;250m    \u001b[39m\u001b[33;03m\"\"\"\u001b[39;00m\n\u001b[32m    344\u001b[39m \u001b[33;03m    Convert input X to CumlArray.\u001b[39;00m\n\u001b[32m    345\u001b[39m \n\u001b[32m   (...)\u001b[39m\u001b[32m    410\u001b[39m \n\u001b[32m    411\u001b[39m \u001b[33;03m    \"\"\"\u001b[39;00m\n\u001b[32m--> \u001b[39m\u001b[32m412\u001b[39m     arr = CumlArray.from_input(\n\u001b[32m    413\u001b[39m         X,\n\u001b[32m    414\u001b[39m         order=order,\n\u001b[32m    415\u001b[39m         deepcopy=deepcopy,\n\u001b[32m    416\u001b[39m         check_dtype=check_dtype,\n\u001b[32m    417\u001b[39m         convert_to_dtype=convert_to_dtype,\n\u001b[32m    418\u001b[39m         check_mem_type=check_mem_type,\n\u001b[32m    419\u001b[39m         convert_to_mem_type=convert_to_mem_type,\n\u001b[32m    420\u001b[39m         safe_dtype_conversion=safe_dtype_conversion,\n\u001b[32m    421\u001b[39m         check_cols=check_cols,\n\u001b[32m    422\u001b[39m         check_rows=check_rows,\n\u001b[32m    423\u001b[39m         fail_on_order=fail_on_order,\n\u001b[32m    424\u001b[39m         force_contiguous=force_contiguous,\n\u001b[32m    425\u001b[39m     )\n\u001b[32m    426\u001b[39m     \u001b[38;5;28;01mtry\u001b[39;00m:\n\u001b[32m    427\u001b[39m         shape = arr.__cuda_array_interface__[\u001b[33m\"\u001b[39m\u001b[33mshape\u001b[39m\u001b[33m\"\u001b[39m]\n",
      "\u001b[36mFile \u001b[39m\u001b[32m/opt/conda/lib/python3.12/site-packages/cuml/internals/memory_utils.py:87\u001b[39m, in \u001b[36mcupy_rmm_wrapper\u001b[39m\u001b[34m()\u001b[39m\n\u001b[32m     85\u001b[39m \u001b[38;5;28;01mif\u001b[39;00m GPU_ENABLED:\n\u001b[32m     86\u001b[39m     \u001b[38;5;28;01mwith\u001b[39;00m cupy_using_allocator(rmm_cupy_allocator):\n\u001b[32m---> \u001b[39m\u001b[32m87\u001b[39m         \u001b[38;5;28;01mreturn\u001b[39;00m func(*args, **kwargs)\n\u001b[32m     88\u001b[39m \u001b[38;5;28;01mreturn\u001b[39;00m func(*args, **kwargs)\n",
      "\u001b[36mFile \u001b[39m\u001b[32m/opt/conda/lib/python3.12/site-packages/nvtx/nvtx.py:122\u001b[39m, in \u001b[36minner\u001b[39m\u001b[34m()\u001b[39m\n\u001b[32m    119\u001b[39m \u001b[38;5;129m@wraps\u001b[39m(func)\n\u001b[32m    120\u001b[39m \u001b[38;5;28;01mdef\u001b[39;00m\u001b[38;5;250m \u001b[39m\u001b[34minner\u001b[39m(*args, **kwargs):\n\u001b[32m    121\u001b[39m     libnvtx_push_range(\u001b[38;5;28mself\u001b[39m.attributes, \u001b[38;5;28mself\u001b[39m.domain.handle)\n\u001b[32m--> \u001b[39m\u001b[32m122\u001b[39m     result = func(*args, **kwargs)\n\u001b[32m    123\u001b[39m     libnvtx_pop_range(\u001b[38;5;28mself\u001b[39m.domain.handle)\n\u001b[32m    124\u001b[39m     \u001b[38;5;28;01mreturn\u001b[39;00m result\n",
      "\u001b[36mFile \u001b[39m\u001b[32m/opt/conda/lib/python3.12/site-packages/cuml/internals/array.py:1107\u001b[39m, in \u001b[36mfrom_input\u001b[39m\u001b[34m()\u001b[39m\n\u001b[32m   1104\u001b[39m     deepcopy = \u001b[38;5;28;01mFalse\u001b[39;00m\n\u001b[32m   1106\u001b[39m requested_order = (order, \u001b[38;5;28;01mNone\u001b[39;00m)[fail_on_order]\n\u001b[32m-> \u001b[39m\u001b[32m1107\u001b[39m arr = \u001b[38;5;28mcls\u001b[39m(X, index=index, order=requested_order, validate=\u001b[38;5;28;01mFalse\u001b[39;00m)\n\u001b[32m   1108\u001b[39m \u001b[38;5;28;01mif\u001b[39;00m deepcopy:\n\u001b[32m   1109\u001b[39m     arr = copy.deepcopy(arr)\n",
      "\u001b[36mFile \u001b[39m\u001b[32m/opt/conda/lib/python3.12/site-packages/cuml/internals/memory_utils.py:87\u001b[39m, in \u001b[36mcupy_rmm_wrapper\u001b[39m\u001b[34m()\u001b[39m\n\u001b[32m     85\u001b[39m \u001b[38;5;28;01mif\u001b[39;00m GPU_ENABLED:\n\u001b[32m     86\u001b[39m     \u001b[38;5;28;01mwith\u001b[39;00m cupy_using_allocator(rmm_cupy_allocator):\n\u001b[32m---> \u001b[39m\u001b[32m87\u001b[39m         \u001b[38;5;28;01mreturn\u001b[39;00m func(*args, **kwargs)\n\u001b[32m     88\u001b[39m \u001b[38;5;28;01mreturn\u001b[39;00m func(*args, **kwargs)\n",
      "\u001b[36mFile \u001b[39m\u001b[32m/opt/conda/lib/python3.12/site-packages/nvtx/nvtx.py:122\u001b[39m, in \u001b[36minner\u001b[39m\u001b[34m()\u001b[39m\n\u001b[32m    119\u001b[39m \u001b[38;5;129m@wraps\u001b[39m(func)\n\u001b[32m    120\u001b[39m \u001b[38;5;28;01mdef\u001b[39;00m\u001b[38;5;250m \u001b[39m\u001b[34minner\u001b[39m(*args, **kwargs):\n\u001b[32m    121\u001b[39m     libnvtx_push_range(\u001b[38;5;28mself\u001b[39m.attributes, \u001b[38;5;28mself\u001b[39m.domain.handle)\n\u001b[32m--> \u001b[39m\u001b[32m122\u001b[39m     result = func(*args, **kwargs)\n\u001b[32m    123\u001b[39m     libnvtx_pop_range(\u001b[38;5;28mself\u001b[39m.domain.handle)\n\u001b[32m    124\u001b[39m     \u001b[38;5;28;01mreturn\u001b[39;00m result\n",
      "\u001b[36mFile \u001b[39m\u001b[32m/opt/conda/lib/python3.12/site-packages/cuml/internals/array.py:255\u001b[39m, in \u001b[36m__init__\u001b[39m\u001b[34m()\u001b[39m\n\u001b[32m    253\u001b[39m         dtype = data.dtype\n\u001b[32m    254\u001b[39m     \u001b[38;5;28;01melse\u001b[39;00m:\n\u001b[32m--> \u001b[39m\u001b[32m255\u001b[39m         \u001b[38;5;28;01mraise\u001b[39;00m \u001b[38;5;167;01mValueError\u001b[39;00m(\n\u001b[32m    256\u001b[39m             \u001b[33m\"\u001b[39m\u001b[33mMust specify dtype when data is passed as a\u001b[39m\u001b[33m\"\u001b[39m\n\u001b[32m    257\u001b[39m             \u001b[33m\"\u001b[39m\u001b[33m \u001b[39m\u001b[38;5;132;01m{}\u001b[39;00m\u001b[33m\"\u001b[39m.format(\u001b[38;5;28mtype\u001b[39m(data))\n\u001b[32m    258\u001b[39m         )\n\u001b[32m    259\u001b[39m \u001b[38;5;28;01mif\u001b[39;00m mem_type \u001b[38;5;129;01mis\u001b[39;00m \u001b[38;5;28;01mNone\u001b[39;00m:\n\u001b[32m    260\u001b[39m     \u001b[38;5;28;01mif\u001b[39;00m GlobalSettings().memory_type \u001b[38;5;129;01min\u001b[39;00m (\n\u001b[32m    261\u001b[39m         \u001b[38;5;28;01mNone\u001b[39;00m,\n\u001b[32m    262\u001b[39m         MemoryType.mirror,\n\u001b[32m    263\u001b[39m     ):\n",
      "\u001b[31mValueError\u001b[39m: Must specify dtype when data is passed as a <class 'tuple'>"
     ]
    }
   ],
   "source": [
    "%%time\n",
    "local_pca = pca_data.compute()\n",
    "X = dask_sparse_arr.compute().get()"
   ]
  },
  {
   "cell_type": "code",
   "execution_count": null,
   "metadata": {},
   "outputs": [],
   "source": [
    "%%time\n",
    "adata = anndata.AnnData(X=X)\n",
    "adata.var_names = genes.to_numpy()\n",
    "adata.obsm[\"X_pca\"] = local_pca.get()"
   ]
  },
  {
   "cell_type": "code",
   "execution_count": null,
   "metadata": {},
   "outputs": [],
   "source": [
    "del pca_data\n",
    "del dask_sparse_arr"
   ]
  },
  {
   "cell_type": "markdown",
   "metadata": {},
   "source": [
    "### t-SNE + K-means"
   ]
  },
  {
   "cell_type": "markdown",
   "metadata": {},
   "source": [
    "We cluster the cells using k-means on the principal components. For example purposes, we set k=35."
   ]
  },
  {
   "cell_type": "code",
   "execution_count": null,
   "metadata": {},
   "outputs": [],
   "source": [
    "%%time\n",
    "adata.obsm['X_tsne'] = TSNE().fit_transform(adata.obsm[\"X_pca\"][:,:tsne_n_pcs])"
   ]
  },
  {
   "cell_type": "code",
   "execution_count": null,
   "metadata": {},
   "outputs": [],
   "source": [
    "%%time\n",
    "from cuml.cluster import KMeans\n",
    "kmeans_labels = KMeans(n_clusters=k, init=\"k-means||\", random_state=0).fit_predict(local_pca)\n",
    "adata.obs['kmeans'] = kmeans_labels.get().astype(str)"
   ]
  },
  {
   "cell_type": "markdown",
   "metadata": {},
   "source": [
    "We visualize the cells using t-SNE and label cells by color according to the k-means clustering."
   ]
  },
  {
   "cell_type": "code",
   "execution_count": null,
   "metadata": {},
   "outputs": [],
   "source": [
    "%%time\n",
    "sc.pl.tsne(adata, color=[\"kmeans\"])"
   ]
  },
  {
   "cell_type": "markdown",
   "metadata": {},
   "source": [
    "### UMAP + Graph clustering"
   ]
  },
  {
   "cell_type": "markdown",
   "metadata": {},
   "source": [
    "We can also visualize the cells using the UMAP algorithm in Rapids. Before UMAP, we need to construct a k-nearest neighbors graph in which each cell is connected to its nearest neighbors. This can be done conveniently using rapids functionality already integrated into Scanpy.\n",
    "\n",
    "Note that Scanpy uses an approximation to the nearest neighbors on the CPU while the GPU version performs an exact search. While both methods are known to yield useful results, some differences in the resulting visualization and clusters can be observed."
   ]
  },
  {
   "cell_type": "markdown",
   "metadata": {},
   "source": [
    "The UMAP function from Rapids is also integrated into Scanpy."
   ]
  },
  {
   "cell_type": "code",
   "execution_count": null,
   "metadata": {},
   "outputs": [],
   "source": [
    "%%time\n",
    "sc.pp.neighbors(adata, n_neighbors=n_neighbors, n_pcs=knn_n_pcs, method='rapids')"
   ]
  },
  {
   "cell_type": "code",
   "execution_count": null,
   "metadata": {},
   "outputs": [],
   "source": [
    "%%time\n",
    "sc.tl.umap(adata, min_dist=umap_min_dist, spread=umap_spread, method='rapids')"
   ]
  },
  {
   "cell_type": "markdown",
   "metadata": {},
   "source": [
    "Next, we use the Louvain algorithm for graph-based clustering."
   ]
  },
  {
   "cell_type": "code",
   "execution_count": null,
   "metadata": {},
   "outputs": [],
   "source": [
    "%%time\n",
    "sc.tl.louvain(adata, flavor='rapids')"
   ]
  },
  {
   "cell_type": "markdown",
   "metadata": {},
   "source": [
    "We plot the cells using the UMAP visualization, and using the Louvain clusters as labels."
   ]
  },
  {
   "cell_type": "code",
   "execution_count": null,
   "metadata": {},
   "outputs": [],
   "source": [
    "%%time\n",
    "sc.pl.umap(adata, color=[\"louvain\"])"
   ]
  },
  {
   "cell_type": "markdown",
   "metadata": {},
   "source": [
    "We can also use the Leiden clustering method in RAPIDS. This method has not been integrated into Scanpy and needs to be called separately."
   ]
  },
  {
   "cell_type": "code",
   "execution_count": null,
   "metadata": {},
   "outputs": [],
   "source": [
    "%%time\n",
    "adata.obs['leiden'] = rapids_scanpy_funcs.leiden(adata)"
   ]
  },
  {
   "cell_type": "code",
   "execution_count": null,
   "metadata": {},
   "outputs": [],
   "source": [
    "%%time\n",
    "sc.pl.umap(adata, color=[\"leiden\"])"
   ]
  },
  {
   "cell_type": "markdown",
   "metadata": {
    "tags": []
   },
   "source": [
    "## Differential expression analysis"
   ]
  },
  {
   "cell_type": "markdown",
   "metadata": {},
   "source": [
    "Once we have done clustering, we can compute a ranking for the highly differential genes in each cluster. Here we use the Louvain clusters as labels."
   ]
  },
  {
   "cell_type": "markdown",
   "metadata": {},
   "source": [
    "We use logistic regression to identify the top 50 genes distinguishing each cluster."
   ]
  },
  {
   "cell_type": "code",
   "execution_count": null,
   "metadata": {
    "tags": []
   },
   "outputs": [],
   "source": [
    "%%time\n",
    "scores, names, reference = rapids_scanpy_funcs.rank_genes_groups(\n",
    "    adata, \n",
    "    groupby=\"louvain\",  \n",
    "    n_genes=50, groups='all', reference='rest')"
   ]
  },
  {
   "cell_type": "code",
   "execution_count": null,
   "metadata": {
    "tags": []
   },
   "outputs": [],
   "source": [
    "%%time\n",
    "adata.uns[\"rank_genes_groups\"] = {}\n",
    "adata.uns[\"rank_genes_groups\"][\"params\"] = dict(groupby=\"louvain\", method=\"logreg\", reference=reference, use_raw=False)\n",
    "adata.uns[\"rank_genes_groups\"]['scores'] = scores\n",
    "adata.uns[\"rank_genes_groups\"]['names'] = names\n",
    "sc.pl.rank_genes_groups(adata, n_genes=20)"
   ]
  },
  {
   "cell_type": "code",
   "execution_count": null,
   "metadata": {},
   "outputs": [],
   "source": [
    "print(\"Full time: %s\" % (time.time() - start))"
   ]
  },
  {
   "cell_type": "code",
   "execution_count": null,
   "metadata": {},
   "outputs": [],
   "source": [
    "client.shutdown()\n",
    "cluster.close()"
   ]
  },
  {
   "cell_type": "code",
   "execution_count": null,
   "metadata": {},
   "outputs": [],
   "source": []
  }
 ],
 "metadata": {
  "kernelspec": {
   "display_name": "base",
   "language": "python",
   "name": "python3"
  },
  "language_info": {
   "codemirror_mode": {
    "name": "ipython",
    "version": 3
   },
   "file_extension": ".py",
   "mimetype": "text/x-python",
   "name": "python",
   "nbconvert_exporter": "python",
   "pygments_lexer": "ipython3",
   "version": "3.12.9"
  }
 },
 "nbformat": 4,
 "nbformat_minor": 4
}
