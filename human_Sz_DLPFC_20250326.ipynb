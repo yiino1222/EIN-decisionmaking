{
 "cells": [
  {
   "cell_type": "markdown",
   "metadata": {},
   "source": [
    "# RAPIDS & Scanpy Single-Cell RNA-seq Workflow on mouse NAc cells"
   ]
  },
  {
   "cell_type": "markdown",
   "metadata": {},
   "source": [
    "Copyright (c) 2020, NVIDIA CORPORATION.\n",
    "\n",
    "Licensed under the Apache License, Version 2.0 (the \"License\") you may not use this file except in compliance with the License. You may obtain a copy of the License at\n",
    "\n",
    "    http://www.apache.org/licenses/LICENSE-2.0 \n",
    "\n",
    "Unless required by applicable law or agreed to in writing, software distributed under the License is distributed on an \"AS IS\" BASIS, WITHOUT WARRANTIES OR CONDITIONS OF ANY KIND, either express or implied. See the License for the specific language governing permissions and limitations under the License."
   ]
  },
  {
   "cell_type": "markdown",
   "metadata": {},
   "source": [
    "This notebook demonstrates a single-cell RNA analysis workflow that begins with preprocessing a count matrix of size `(n_gene, n_cell)` and results in a visualization of the clustered cells for further analysis."
   ]
  },
  {
   "cell_type": "markdown",
   "metadata": {},
   "source": [
    "For demonstration purposes, we use a dataset of 1.3 M brain cells with Unified Virtual Memory to oversubscribe GPU memory."
   ]
  },
  {
   "cell_type": "markdown",
   "metadata": {},
   "source": [
    "## Import requirements"
   ]
  },
  {
   "cell_type": "code",
   "execution_count": 1,
   "metadata": {},
   "outputs": [],
   "source": [
    "import numpy as np\n",
    "import scanpy as sc\n",
    "import anndata\n",
    "import scipy.io\n",
    "import scipy.sparse\n",
    "\n",
    "import time\n",
    "import os, wget\n",
    "\n",
    "\n",
    "import cudf\n",
    "\n",
    "from cuml.decomposition import PCA\n",
    "from cuml.manifold import TSNE\n",
    "from cuml.cluster import KMeans\n",
    "from cuml.preprocessing import StandardScaler\n",
    "\n",
    "import cuml\n",
    "import rapids_scanpy_funcs\n",
    "import utils\n",
    "\n",
    "import warnings\n",
    "warnings.filterwarnings('ignore', 'Expected ')\n",
    "warnings.simplefilter('ignore')\n",
    "import pandas as pd\n",
    "import matplotlib\n",
    "import matplotlib.pyplot as plt\n",
    "from matplotlib.colors import LogNorm\n",
    "matplotlib.rcParams['pdf.fonttype'] = 42\n",
    "matplotlib.rcParams['ps.fonttype'] = 42\n",
    "import rmm\n",
    "\n",
    "from rmm.allocators.cupy import rmm_cupy_allocator\n",
    "import cupy\n",
    "cupy.cuda.set_allocator(rmm_cupy_allocator)\n",
    "from scipy import sparse\n",
    "import gc\n",
    "import cupy as cp\n",
    "gc.collect()\n",
    "cp.get_default_memory_pool().free_all_blocks()\n",
    "import calculation_tool as ct"
   ]
  },
  {
   "cell_type": "markdown",
   "metadata": {},
   "source": [
    "We use the RAPIDS memory manager to enable Unified Virtual Memory management, which allows us to oversubscribe the GPU memory."
   ]
  },
  {
   "cell_type": "markdown",
   "metadata": {},
   "source": [
    "## Input data"
   ]
  },
  {
   "cell_type": "markdown",
   "metadata": {},
   "source": [
    "In the cell below, we provide the path to the sparse `.h5ad` file containing the count matrix to analyze. Please see the README for instructions on how to download the dataset we use here.\n",
    "\n",
    "To run this notebook using your own dataset, please see the README for instructions to convert your own count matrix into this format. Then, replace the path in the cell below with the path to your generated `.h5ad` file."
   ]
  },
  {
   "cell_type": "markdown",
   "metadata": {},
   "source": [
    "## load data"
   ]
  },
  {
   "cell_type": "code",
   "execution_count": null,
   "metadata": {},
   "outputs": [],
   "source": [
    "import os\n",
    "import scanpy as sc\n",
    "import pandas as pd\n",
    "from scipy import sparse\n",
    "import anndata\n",
    "\n",
    "def load_and_merge_data_v3(base_dir):\n",
    "    # 処理する条件（controlとschizophrenia）をリストとして定義\n",
    "    conditions = ['control', 'schizophrenia']\n",
    "    \n",
    "    count = 0\n",
    "    for condition in conditions:\n",
    "        condition_path = os.path.join(base_dir, condition)\n",
    "        \n",
    "        # 各条件下でのサンプル名（MB7、MB8など）を取得\n",
    "        samples = os.listdir(condition_path)\n",
    "        \n",
    "        for sample in samples:\n",
    "            sample_path = os.path.join(condition_path, sample, 'matrix.tsv')\n",
    "            \n",
    "            # pandasでTSVファイルを読み込み\n",
    "            if count == 0:\n",
    "                adata=sc.read_csv(sample_path,delimiter='\\t').T\n",
    "                sparse_X = sparse.csr_matrix(adata.X)\n",
    "                adata.X = sparse_X\n",
    "                adata.obs['condition'] = condition\n",
    "                adata.obs['sample'] = sample\n",
    "            else:\n",
    "                adata_append = sc.read_csv(sample_path,delimiter='\\t').T\n",
    "                sparse_X = sparse.csr_matrix(adata_append.X)\n",
    "                adata_append.X = sparse_X\n",
    "                adata_append.obs['condition'] = condition\n",
    "                adata_append.obs['sample'] = sample\n",
    "            \n",
    "                # 連結\n",
    "                adata = anndata.concat([adata, adata_append])\n",
    "                print(adata.X.shape)\n",
    "            \n",
    "            count += 1\n",
    "            \n",
    "    return adata\n",
    "\n",
    "base_dir = '/temp/data/human_Sz_PFC_each'\n",
    "#adata = load_and_merge_data_v3(base_dir)\n",
    "file_path=\"/temp/data/human_Sz_PFC_each/merged_adata.h5ad\"\n",
    "#adata.write(file_path)"
   ]
  },
  {
   "cell_type": "code",
   "execution_count": null,
   "metadata": {},
   "outputs": [],
   "source": [
    "base_dir = '/temp/data/human_Sz_PFC_each'\n",
    "#adata = load_and_merge_data_v3(base_dir)\n",
    "file_path=\"/temp/data/human_Sz_PFC_each/merged_adata.h5ad\"\n",
    "adata = anndata.read_h5ad(file_path)\n",
    "print(adata.X.shape)"
   ]
  },
  {
   "cell_type": "code",
   "execution_count": 3,
   "metadata": {},
   "outputs": [
    {
     "name": "stdout",
     "output_type": "stream",
     "text": [
      "preprocess_in_bulk\n",
      "HTR1A is not included\n",
      "HTR1A is removed from marker list\n",
      "['CX3CR1', 'CLDN5', 'GLUL', 'NDRG2', 'PCDH15', 'PLP1', 'MBP', 'SATB2', 'SLC17A7', 'SLC17A6', 'GAD2', 'GAD1', 'SNAP25', 'HTR1B', 'HTR1D', 'HTR1E', 'HTR2A', 'HTR2B', 'HTR2C', 'HTR3A', 'HTR4', 'HTR5A', 'HTR6', 'HTR7', 'DRD1', 'DRD2', 'DRD3', 'DRD4', 'DRD5', 'HRH1', 'HRH2', 'HRH3', 'CHRM1', 'CHRM2', 'CHRM3', 'CHRM4', 'CHRM5', 'ADRA1A', 'ADRA1B', 'ADRA2A', 'ADRA2B', 'ADRA2C', 'ADRB1', 'ADRB2']\n",
      "perform regression\n"
     ]
    },
    {
     "ename": "MemoryError",
     "evalue": "std::bad_alloc: out_of_memory: CUDA error at: /opt/conda/include/rmm/mr/device/cuda_memory_resource.hpp",
     "output_type": "error",
     "traceback": [
      "\u001b[31m---------------------------------------------------------------------------\u001b[39m",
      "\u001b[31mMemoryError\u001b[39m                               Traceback (most recent call last)",
      "\u001b[36mCell\u001b[39m\u001b[36m \u001b[39m\u001b[32mIn[3]\u001b[39m\u001b[32m, line 2\u001b[39m\n\u001b[32m      1\u001b[39m file_path=\u001b[33m\"\u001b[39m\u001b[33m/data/human_Sz_PFC_each/merged_adata.h5ad\u001b[39m\u001b[33m\"\u001b[39m\n\u001b[32m----> \u001b[39m\u001b[32m2\u001b[39m adata,GPCR_df=\u001b[43mct\u001b[49m\u001b[43m.\u001b[49m\u001b[43mpreprocess_adata_in_bulk\u001b[49m\u001b[43m(\u001b[49m\u001b[43mfile_path\u001b[49m\u001b[43m,\u001b[49m\u001b[43mlabel\u001b[49m\u001b[43m=\u001b[49m\u001b[38;5;28;43;01mNone\u001b[39;49;00m\u001b[43m)\u001b[49m\n\u001b[32m      3\u001b[39m GPCR_df.to_csv(\u001b[33m\"\u001b[39m\u001b[33m/data/human_Sz_PFC_each/combined_data_GPCR_df.csv\u001b[39m\u001b[33m\"\u001b[39m)\n",
      "\u001b[36mFile \u001b[39m\u001b[32m~/antipsychotics-scRNAseq2/calculation_tool.py:177\u001b[39m, in \u001b[36mpreprocess_adata_in_bulk\u001b[39m\u001b[34m(adata_path, label, add_markers)\u001b[39m\n\u001b[32m    174\u001b[39m \u001b[38;5;66;03m# regression\u001b[39;00m\n\u001b[32m    175\u001b[39m \u001b[38;5;28mprint\u001b[39m(\u001b[33m\"\u001b[39m\u001b[33mperform regression\u001b[39m\u001b[33m\"\u001b[39m)\n\u001b[32m--> \u001b[39m\u001b[32m177\u001b[39m sparse_gpu_array = \u001b[43mrapids_scanpy_funcs\u001b[49m\u001b[43m.\u001b[49m\u001b[43mregress_out\u001b[49m\u001b[43m(\u001b[49m\u001b[43msparse_gpu_array\u001b[49m\u001b[43m.\u001b[49m\u001b[43mtocsc\u001b[49m\u001b[43m(\u001b[49m\u001b[43m)\u001b[49m\u001b[43m,\u001b[49m\u001b[43m \u001b[49m\u001b[43mn_counts\u001b[49m\u001b[43m,\u001b[49m\u001b[43m \u001b[49m\u001b[43mpercent_mito\u001b[49m\u001b[43m)\u001b[49m\n\u001b[32m    178\u001b[39m \u001b[38;5;28;01mdel\u001b[39;00m n_counts, percent_mito, mito_genes\n\u001b[32m    179\u001b[39m gc.collect()\n",
      "\u001b[36mFile \u001b[39m\u001b[32m~/antipsychotics-scRNAseq2/rapids_scanpy_funcs.py:193\u001b[39m, in \u001b[36mregress_out\u001b[39m\u001b[34m(normalized, n_counts, percent_mito, batchsize, verbose)\u001b[39m\n\u001b[32m    190\u001b[39m regressors[:, \u001b[32m1\u001b[39m] = n_counts\n\u001b[32m    191\u001b[39m regressors[:, \u001b[32m2\u001b[39m] = percent_mito\n\u001b[32m--> \u001b[39m\u001b[32m193\u001b[39m outputs = \u001b[43mcp\u001b[49m\u001b[43m.\u001b[49m\u001b[43mempty\u001b[49m\u001b[43m(\u001b[49m\u001b[43mnormalized\u001b[49m\u001b[43m.\u001b[49m\u001b[43mshape\u001b[49m\u001b[43m,\u001b[49m\u001b[43m \u001b[49m\u001b[43mdtype\u001b[49m\u001b[43m=\u001b[49m\u001b[43mnormalized\u001b[49m\u001b[43m.\u001b[49m\u001b[43mdtype\u001b[49m\u001b[43m,\u001b[49m\u001b[43m \u001b[49m\u001b[43morder\u001b[49m\u001b[43m=\u001b[49m\u001b[33;43m\"\u001b[39;49m\u001b[33;43mF\u001b[39;49m\u001b[33;43m\"\u001b[39;49m\u001b[43m)\u001b[49m\n\u001b[32m    196\u001b[39m \u001b[38;5;66;03m# cuML gained support for multi-target regression in version 22.12. This\u001b[39;00m\n\u001b[32m    197\u001b[39m \u001b[38;5;66;03m# removes the need for a Python for loop and speeds up the code\u001b[39;00m\n\u001b[32m    198\u001b[39m \u001b[38;5;66;03m# significantly.     \u001b[39;00m\n\u001b[32m    199\u001b[39m cuml_supports_multi_target = LinearRegression._get_tags()[\u001b[33m'\u001b[39m\u001b[33mmultioutput\u001b[39m\u001b[33m'\u001b[39m]\n",
      "\u001b[36mFile \u001b[39m\u001b[32m/opt/conda/lib/python3.12/site-packages/cupy/_creation/basic.py:31\u001b[39m, in \u001b[36mempty\u001b[39m\u001b[34m(shape, dtype, order)\u001b[39m\n\u001b[32m     12\u001b[39m \u001b[38;5;28;01mdef\u001b[39;00m\u001b[38;5;250m \u001b[39m\u001b[34mempty\u001b[39m(\n\u001b[32m     13\u001b[39m         shape: _ShapeLike,\n\u001b[32m     14\u001b[39m         dtype: DTypeLike = \u001b[38;5;28mfloat\u001b[39m,\n\u001b[32m     15\u001b[39m         order: _OrderCF = \u001b[33m'\u001b[39m\u001b[33mC\u001b[39m\u001b[33m'\u001b[39m,\n\u001b[32m     16\u001b[39m ) -> NDArray[Any]:\n\u001b[32m     17\u001b[39m \u001b[38;5;250m    \u001b[39m\u001b[33;03m\"\"\"Returns an array without initializing the elements.\u001b[39;00m\n\u001b[32m     18\u001b[39m \n\u001b[32m     19\u001b[39m \u001b[33;03m    Args:\u001b[39;00m\n\u001b[32m   (...)\u001b[39m\u001b[32m     29\u001b[39m \n\u001b[32m     30\u001b[39m \u001b[33;03m    \"\"\"\u001b[39;00m\n\u001b[32m---> \u001b[39m\u001b[32m31\u001b[39m     \u001b[38;5;28;01mreturn\u001b[39;00m \u001b[43mcupy\u001b[49m\u001b[43m.\u001b[49m\u001b[43mndarray\u001b[49m\u001b[43m(\u001b[49m\u001b[43mshape\u001b[49m\u001b[43m,\u001b[49m\u001b[43m \u001b[49m\u001b[43mdtype\u001b[49m\u001b[43m,\u001b[49m\u001b[43m \u001b[49m\u001b[43morder\u001b[49m\u001b[43m=\u001b[49m\u001b[43morder\u001b[49m\u001b[43m)\u001b[49m\n",
      "\u001b[36mFile \u001b[39m\u001b[32mcupy/_core/core.pyx:137\u001b[39m, in \u001b[36mcupy._core.core.ndarray.__new__\u001b[39m\u001b[34m()\u001b[39m\n",
      "\u001b[36mFile \u001b[39m\u001b[32mcupy/_core/core.pyx:225\u001b[39m, in \u001b[36mcupy._core.core._ndarray_base._init\u001b[39m\u001b[34m()\u001b[39m\n",
      "\u001b[36mFile \u001b[39m\u001b[32mcupy/cuda/memory.pyx:738\u001b[39m, in \u001b[36mcupy.cuda.memory.alloc\u001b[39m\u001b[34m()\u001b[39m\n",
      "\u001b[36mFile \u001b[39m\u001b[32m/opt/conda/lib/python3.12/site-packages/rmm/allocators/cupy.py:37\u001b[39m, in \u001b[36mrmm_cupy_allocator\u001b[39m\u001b[34m(nbytes)\u001b[39m\n\u001b[32m     34\u001b[39m     \u001b[38;5;28;01mraise\u001b[39;00m \u001b[38;5;167;01mModuleNotFoundError\u001b[39;00m(\u001b[33m\"\u001b[39m\u001b[33mNo module named \u001b[39m\u001b[33m'\u001b[39m\u001b[33mcupy\u001b[39m\u001b[33m'\u001b[39m\u001b[33m\"\u001b[39m)\n\u001b[32m     36\u001b[39m stream = Stream(obj=cupy.cuda.get_current_stream())\n\u001b[32m---> \u001b[39m\u001b[32m37\u001b[39m buf = \u001b[43mpylibrmm\u001b[49m\u001b[43m.\u001b[49m\u001b[43mdevice_buffer\u001b[49m\u001b[43m.\u001b[49m\u001b[43mDeviceBuffer\u001b[49m\u001b[43m(\u001b[49m\u001b[43msize\u001b[49m\u001b[43m=\u001b[49m\u001b[43mnbytes\u001b[49m\u001b[43m,\u001b[49m\u001b[43m \u001b[49m\u001b[43mstream\u001b[49m\u001b[43m=\u001b[49m\u001b[43mstream\u001b[49m\u001b[43m)\u001b[49m\n\u001b[32m     38\u001b[39m dev_id = -\u001b[32m1\u001b[39m \u001b[38;5;28;01mif\u001b[39;00m buf.ptr \u001b[38;5;28;01melse\u001b[39;00m cupy.cuda.device.get_device_id()\n\u001b[32m     39\u001b[39m mem = cupy.cuda.UnownedMemory(\n\u001b[32m     40\u001b[39m     ptr=buf.ptr, size=buf.size, owner=buf, device_id=dev_id\n\u001b[32m     41\u001b[39m )\n",
      "\u001b[36mFile \u001b[39m\u001b[32mdevice_buffer.pyx:102\u001b[39m, in \u001b[36mrmm.pylibrmm.device_buffer.DeviceBuffer.__cinit__\u001b[39m\u001b[34m()\u001b[39m\n",
      "\u001b[31mMemoryError\u001b[39m: std::bad_alloc: out_of_memory: CUDA error at: /opt/conda/include/rmm/mr/device/cuda_memory_resource.hpp"
     ]
    }
   ],
   "source": [
    "file_path=\"/data/human_Sz_PFC_each/merged_adata.h5ad\"\n",
    "adata,GPCR_df=ct.preprocess_adata_in_bulk(file_path,label=None)\n",
    "GPCR_df.to_csv(\"/data/human_Sz_PFC_each/combined_data_GPCR_df.csv\")"
   ]
  },
  {
   "cell_type": "code",
   "execution_count": null,
   "metadata": {},
   "outputs": [],
   "source": [
    "D_R_mtx,GPCR_type_df,drug_list,GPCR_list=ct.load_parameters()\n",
    "params=ct.set_parameters_for_preprocess(GPCR_list)\n",
    "import calculation_tool as ct\n",
    "ct.drug_titeration(adata, GPCR_df, GPCR_type_df, drug_list, D_R_mtx)"
   ]
  }
 ],
 "metadata": {
  "kernelspec": {
   "display_name": "base",
   "language": "python",
   "name": "python3"
  },
  "language_info": {
   "codemirror_mode": {
    "name": "ipython",
    "version": 3
   },
   "file_extension": ".py",
   "mimetype": "text/x-python",
   "name": "python",
   "nbconvert_exporter": "python",
   "pygments_lexer": "ipython3",
   "version": "3.12.9"
  }
 },
 "nbformat": 4,
 "nbformat_minor": 4
}
